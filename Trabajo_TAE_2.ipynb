{
  "nbformat": 4,
  "nbformat_minor": 0,
  "metadata": {
    "colab": {
      "name": "Trabajo_TAE_2.ipynb",
      "provenance": [],
      "toc_visible": true,
      "include_colab_link": true
    },
    "kernelspec": {
      "name": "python3",
      "display_name": "Python 3"
    },
    "language_info": {
      "name": "python"
    }
  },
  "cells": [
    {
      "cell_type": "markdown",
      "metadata": {
        "id": "view-in-github",
        "colab_type": "text"
      },
      "source": [
        "<a href=\"https://colab.research.google.com/github/CloaizaF/Trabajo_TAE_2/blob/main/Trabajo_TAE_2.ipynb\" target=\"_parent\"><img src=\"https://colab.research.google.com/assets/colab-badge.svg\" alt=\"Open In Colab\"/></a>"
      ]
    },
    {
      "cell_type": "markdown",
      "source": [
        "#Modelos de riesgo de crédito"
      ],
      "metadata": {
        "id": "TphWFXiIc5i2"
      }
    },
    {
      "cell_type": "markdown",
      "source": [
        "El objetivo de este trabajo es crear un modelo para predecir la probabilidad de que un individuo incumpla sus obligaciones financieras en los siguientes 12 meses a la fecha de originación de su crédito."
      ],
      "metadata": {
        "id": "t_Fjr6TIQLz0"
      }
    },
    {
      "cell_type": "markdown",
      "source": [
        "##Importación de librerías"
      ],
      "metadata": {
        "id": "aRL2JAxfdT-T"
      }
    },
    {
      "cell_type": "code",
      "source": [
        "import pandas as pd\n",
        "import numpy as np\n",
        "import seaborn as sns\n",
        "import math\n",
        "import re\n",
        "import datetime\n",
        "from scipy import stats \n",
        "import matplotlib.pyplot as plt\n",
        "!pip install hvplot\n",
        "import hvplot.pandas\n",
        "\n",
        "from pydrive.auth import GoogleAuth\n",
        "from pydrive.drive import GoogleDrive\n",
        "from google.colab import auth\n",
        "from oauth2client.client import GoogleCredentials\n",
        "\n",
        "from sklearn.model_selection import train_test_split, RandomizedSearchCV\n",
        "from sklearn.preprocessing import MinMaxScaler\n",
        "from sklearn.feature_selection import RFE\n",
        "from sklearn.linear_model import LogisticRegression\n",
        "\n",
        "from sklearn.metrics import (\n",
        "    accuracy_score, confusion_matrix, classification_report, \n",
        "    roc_auc_score, roc_curve, auc,\n",
        "    plot_confusion_matrix, plot_roc_curve\n",
        ")\n",
        "\n",
        "!pip install tensorflow==2.7.0\n",
        "\n",
        "import tensorflow as tf\n",
        "from tensorflow.keras.models import Sequential, Model\n",
        "from tensorflow.keras.layers import Dense, Dropout, BatchNormalization \n",
        "from tensorflow.keras.optimizers import Adam\n",
        "from tensorflow.keras.metrics import AUC\n",
        "\n",
        "import joblib\n"
      ],
      "metadata": {
        "colab": {
          "base_uri": "https://localhost:8080/",
          "height": 1000
        },
        "id": "7ACA0GXaeC6m",
        "outputId": "5b3cfd86-ac84-4c49-d53d-72359124c579"
      },
      "execution_count": null,
      "outputs": [
        {
          "output_type": "stream",
          "name": "stdout",
          "text": [
            "Requirement already satisfied: hvplot in /usr/local/lib/python3.7/dist-packages (0.8.0)\n",
            "Requirement already satisfied: numpy>=1.15 in /usr/local/lib/python3.7/dist-packages (from hvplot) (1.21.6)\n",
            "Requirement already satisfied: colorcet>=2 in /usr/local/lib/python3.7/dist-packages (from hvplot) (3.0.0)\n",
            "Requirement already satisfied: holoviews>=1.11.0 in /usr/local/lib/python3.7/dist-packages (from hvplot) (1.14.9)\n",
            "Requirement already satisfied: bokeh>=1.0.0 in /usr/local/lib/python3.7/dist-packages (from hvplot) (2.3.3)\n",
            "Requirement already satisfied: pandas in /usr/local/lib/python3.7/dist-packages (from hvplot) (1.3.5)\n",
            "Requirement already satisfied: packaging in /usr/local/lib/python3.7/dist-packages (from hvplot) (21.3)\n",
            "Requirement already satisfied: pillow>=7.1.0 in /usr/local/lib/python3.7/dist-packages (from bokeh>=1.0.0->hvplot) (7.1.2)\n",
            "Requirement already satisfied: tornado>=5.1 in /usr/local/lib/python3.7/dist-packages (from bokeh>=1.0.0->hvplot) (5.1.1)\n",
            "Requirement already satisfied: python-dateutil>=2.1 in /usr/local/lib/python3.7/dist-packages (from bokeh>=1.0.0->hvplot) (2.8.2)\n",
            "Requirement already satisfied: typing-extensions>=3.7.4 in /usr/local/lib/python3.7/dist-packages (from bokeh>=1.0.0->hvplot) (4.2.0)\n",
            "Requirement already satisfied: Jinja2>=2.9 in /usr/local/lib/python3.7/dist-packages (from bokeh>=1.0.0->hvplot) (2.11.3)\n",
            "Requirement already satisfied: PyYAML>=3.10 in /usr/local/lib/python3.7/dist-packages (from bokeh>=1.0.0->hvplot) (3.13)\n",
            "Requirement already satisfied: pyct>=0.4.4 in /usr/local/lib/python3.7/dist-packages (from colorcet>=2->hvplot) (0.4.8)\n",
            "Requirement already satisfied: param>=1.7.0 in /usr/local/lib/python3.7/dist-packages (from colorcet>=2->hvplot) (1.12.1)\n",
            "Requirement already satisfied: panel>=0.8.0 in /usr/local/lib/python3.7/dist-packages (from holoviews>=1.11.0->hvplot) (0.12.1)\n",
            "Requirement already satisfied: pyviz-comms>=0.7.4 in /usr/local/lib/python3.7/dist-packages (from holoviews>=1.11.0->hvplot) (2.2.0)\n",
            "Requirement already satisfied: MarkupSafe>=0.23 in /usr/local/lib/python3.7/dist-packages (from Jinja2>=2.9->bokeh>=1.0.0->hvplot) (2.0.1)\n",
            "Requirement already satisfied: pyparsing!=3.0.5,>=2.0.2 in /usr/local/lib/python3.7/dist-packages (from packaging->hvplot) (3.0.9)\n",
            "Requirement already satisfied: pytz>=2017.3 in /usr/local/lib/python3.7/dist-packages (from pandas->hvplot) (2022.1)\n",
            "Requirement already satisfied: tqdm>=4.48.0 in /usr/local/lib/python3.7/dist-packages (from panel>=0.8.0->holoviews>=1.11.0->hvplot) (4.64.0)\n",
            "Requirement already satisfied: markdown in /usr/local/lib/python3.7/dist-packages (from panel>=0.8.0->holoviews>=1.11.0->hvplot) (3.3.7)\n",
            "Requirement already satisfied: requests in /usr/local/lib/python3.7/dist-packages (from panel>=0.8.0->holoviews>=1.11.0->hvplot) (2.23.0)\n",
            "Requirement already satisfied: bleach in /usr/local/lib/python3.7/dist-packages (from panel>=0.8.0->holoviews>=1.11.0->hvplot) (5.0.0)\n",
            "Requirement already satisfied: six>=1.5 in /usr/local/lib/python3.7/dist-packages (from python-dateutil>=2.1->bokeh>=1.0.0->hvplot) (1.15.0)\n",
            "Requirement already satisfied: webencodings in /usr/local/lib/python3.7/dist-packages (from bleach->panel>=0.8.0->holoviews>=1.11.0->hvplot) (0.5.1)\n",
            "Requirement already satisfied: importlib-metadata>=4.4 in /usr/local/lib/python3.7/dist-packages (from markdown->panel>=0.8.0->holoviews>=1.11.0->hvplot) (4.11.3)\n",
            "Requirement already satisfied: zipp>=0.5 in /usr/local/lib/python3.7/dist-packages (from importlib-metadata>=4.4->markdown->panel>=0.8.0->holoviews>=1.11.0->hvplot) (3.8.0)\n",
            "Requirement already satisfied: certifi>=2017.4.17 in /usr/local/lib/python3.7/dist-packages (from requests->panel>=0.8.0->holoviews>=1.11.0->hvplot) (2021.10.8)\n",
            "Requirement already satisfied: chardet<4,>=3.0.2 in /usr/local/lib/python3.7/dist-packages (from requests->panel>=0.8.0->holoviews>=1.11.0->hvplot) (3.0.4)\n",
            "Requirement already satisfied: urllib3!=1.25.0,!=1.25.1,<1.26,>=1.21.1 in /usr/local/lib/python3.7/dist-packages (from requests->panel>=0.8.0->holoviews>=1.11.0->hvplot) (1.24.3)\n",
            "Requirement already satisfied: idna<3,>=2.5 in /usr/local/lib/python3.7/dist-packages (from requests->panel>=0.8.0->holoviews>=1.11.0->hvplot) (2.10)\n",
            "Collecting tensorflow==2.7.0\n",
            "  Downloading tensorflow-2.7.0-cp37-cp37m-manylinux2010_x86_64.whl (489.6 MB)\n",
            "\u001b[K     |████████████████████████████████| 489.6 MB 20 kB/s \n",
            "\u001b[?25hRequirement already satisfied: h5py>=2.9.0 in /usr/local/lib/python3.7/dist-packages (from tensorflow==2.7.0) (3.1.0)\n",
            "Requirement already satisfied: wrapt>=1.11.0 in /usr/local/lib/python3.7/dist-packages (from tensorflow==2.7.0) (1.14.1)\n",
            "Collecting tensorflow-estimator<2.8,~=2.7.0rc0\n",
            "  Downloading tensorflow_estimator-2.7.0-py2.py3-none-any.whl (463 kB)\n",
            "\u001b[K     |████████████████████████████████| 463 kB 42.6 MB/s \n",
            "\u001b[?25hRequirement already satisfied: keras-preprocessing>=1.1.1 in /usr/local/lib/python3.7/dist-packages (from tensorflow==2.7.0) (1.1.2)\n",
            "Requirement already satisfied: opt-einsum>=2.3.2 in /usr/local/lib/python3.7/dist-packages (from tensorflow==2.7.0) (3.3.0)\n",
            "Collecting keras<2.8,>=2.7.0rc0\n",
            "  Downloading keras-2.7.0-py2.py3-none-any.whl (1.3 MB)\n",
            "\u001b[K     |████████████████████████████████| 1.3 MB 46.9 MB/s \n",
            "\u001b[?25hRequirement already satisfied: wheel<1.0,>=0.32.0 in /usr/local/lib/python3.7/dist-packages (from tensorflow==2.7.0) (0.37.1)\n",
            "Requirement already satisfied: tensorboard~=2.6 in /usr/local/lib/python3.7/dist-packages (from tensorflow==2.7.0) (2.8.0)\n",
            "Requirement already satisfied: termcolor>=1.1.0 in /usr/local/lib/python3.7/dist-packages (from tensorflow==2.7.0) (1.1.0)\n",
            "Requirement already satisfied: astunparse>=1.6.0 in /usr/local/lib/python3.7/dist-packages (from tensorflow==2.7.0) (1.6.3)\n",
            "Requirement already satisfied: grpcio<2.0,>=1.24.3 in /usr/local/lib/python3.7/dist-packages (from tensorflow==2.7.0) (1.46.1)\n",
            "Requirement already satisfied: absl-py>=0.4.0 in /usr/local/lib/python3.7/dist-packages (from tensorflow==2.7.0) (1.0.0)\n",
            "Requirement already satisfied: typing-extensions>=3.6.6 in /usr/local/lib/python3.7/dist-packages (from tensorflow==2.7.0) (4.2.0)\n",
            "Requirement already satisfied: tensorflow-io-gcs-filesystem>=0.21.0 in /usr/local/lib/python3.7/dist-packages (from tensorflow==2.7.0) (0.25.0)\n",
            "Requirement already satisfied: numpy>=1.14.5 in /usr/local/lib/python3.7/dist-packages (from tensorflow==2.7.0) (1.21.6)\n",
            "Requirement already satisfied: google-pasta>=0.1.1 in /usr/local/lib/python3.7/dist-packages (from tensorflow==2.7.0) (0.2.0)\n",
            "Requirement already satisfied: six>=1.12.0 in /usr/local/lib/python3.7/dist-packages (from tensorflow==2.7.0) (1.15.0)\n",
            "Requirement already satisfied: flatbuffers<3.0,>=1.12 in /usr/local/lib/python3.7/dist-packages (from tensorflow==2.7.0) (2.0)\n",
            "Collecting gast<0.5.0,>=0.2.1\n",
            "  Downloading gast-0.4.0-py3-none-any.whl (9.8 kB)\n",
            "Requirement already satisfied: libclang>=9.0.1 in /usr/local/lib/python3.7/dist-packages (from tensorflow==2.7.0) (14.0.1)\n",
            "Requirement already satisfied: protobuf>=3.9.2 in /usr/local/lib/python3.7/dist-packages (from tensorflow==2.7.0) (3.17.3)\n",
            "Requirement already satisfied: cached-property in /usr/local/lib/python3.7/dist-packages (from h5py>=2.9.0->tensorflow==2.7.0) (1.5.2)\n",
            "Requirement already satisfied: google-auth<3,>=1.6.3 in /usr/local/lib/python3.7/dist-packages (from tensorboard~=2.6->tensorflow==2.7.0) (1.35.0)\n",
            "Requirement already satisfied: google-auth-oauthlib<0.5,>=0.4.1 in /usr/local/lib/python3.7/dist-packages (from tensorboard~=2.6->tensorflow==2.7.0) (0.4.6)\n",
            "Requirement already satisfied: requests<3,>=2.21.0 in /usr/local/lib/python3.7/dist-packages (from tensorboard~=2.6->tensorflow==2.7.0) (2.23.0)\n",
            "Requirement already satisfied: werkzeug>=0.11.15 in /usr/local/lib/python3.7/dist-packages (from tensorboard~=2.6->tensorflow==2.7.0) (1.0.1)\n",
            "Requirement already satisfied: setuptools>=41.0.0 in /usr/local/lib/python3.7/dist-packages (from tensorboard~=2.6->tensorflow==2.7.0) (57.4.0)\n",
            "Requirement already satisfied: markdown>=2.6.8 in /usr/local/lib/python3.7/dist-packages (from tensorboard~=2.6->tensorflow==2.7.0) (3.3.7)\n",
            "Requirement already satisfied: tensorboard-plugin-wit>=1.6.0 in /usr/local/lib/python3.7/dist-packages (from tensorboard~=2.6->tensorflow==2.7.0) (1.8.1)\n",
            "Requirement already satisfied: tensorboard-data-server<0.7.0,>=0.6.0 in /usr/local/lib/python3.7/dist-packages (from tensorboard~=2.6->tensorflow==2.7.0) (0.6.1)\n",
            "Requirement already satisfied: cachetools<5.0,>=2.0.0 in /usr/local/lib/python3.7/dist-packages (from google-auth<3,>=1.6.3->tensorboard~=2.6->tensorflow==2.7.0) (4.2.4)\n",
            "Requirement already satisfied: rsa<5,>=3.1.4 in /usr/local/lib/python3.7/dist-packages (from google-auth<3,>=1.6.3->tensorboard~=2.6->tensorflow==2.7.0) (4.8)\n",
            "Requirement already satisfied: pyasn1-modules>=0.2.1 in /usr/local/lib/python3.7/dist-packages (from google-auth<3,>=1.6.3->tensorboard~=2.6->tensorflow==2.7.0) (0.2.8)\n",
            "Requirement already satisfied: requests-oauthlib>=0.7.0 in /usr/local/lib/python3.7/dist-packages (from google-auth-oauthlib<0.5,>=0.4.1->tensorboard~=2.6->tensorflow==2.7.0) (1.3.1)\n",
            "Requirement already satisfied: importlib-metadata>=4.4 in /usr/local/lib/python3.7/dist-packages (from markdown>=2.6.8->tensorboard~=2.6->tensorflow==2.7.0) (4.11.3)\n",
            "Requirement already satisfied: zipp>=0.5 in /usr/local/lib/python3.7/dist-packages (from importlib-metadata>=4.4->markdown>=2.6.8->tensorboard~=2.6->tensorflow==2.7.0) (3.8.0)\n",
            "Requirement already satisfied: pyasn1<0.5.0,>=0.4.6 in /usr/local/lib/python3.7/dist-packages (from pyasn1-modules>=0.2.1->google-auth<3,>=1.6.3->tensorboard~=2.6->tensorflow==2.7.0) (0.4.8)\n",
            "Requirement already satisfied: idna<3,>=2.5 in /usr/local/lib/python3.7/dist-packages (from requests<3,>=2.21.0->tensorboard~=2.6->tensorflow==2.7.0) (2.10)\n",
            "Requirement already satisfied: certifi>=2017.4.17 in /usr/local/lib/python3.7/dist-packages (from requests<3,>=2.21.0->tensorboard~=2.6->tensorflow==2.7.0) (2021.10.8)\n",
            "Requirement already satisfied: chardet<4,>=3.0.2 in /usr/local/lib/python3.7/dist-packages (from requests<3,>=2.21.0->tensorboard~=2.6->tensorflow==2.7.0) (3.0.4)\n",
            "Requirement already satisfied: urllib3!=1.25.0,!=1.25.1,<1.26,>=1.21.1 in /usr/local/lib/python3.7/dist-packages (from requests<3,>=2.21.0->tensorboard~=2.6->tensorflow==2.7.0) (1.24.3)\n",
            "Requirement already satisfied: oauthlib>=3.0.0 in /usr/local/lib/python3.7/dist-packages (from requests-oauthlib>=0.7.0->google-auth-oauthlib<0.5,>=0.4.1->tensorboard~=2.6->tensorflow==2.7.0) (3.2.0)\n",
            "Installing collected packages: tensorflow-estimator, keras, gast, tensorflow\n",
            "  Attempting uninstall: tensorflow-estimator\n",
            "    Found existing installation: tensorflow-estimator 2.8.0\n",
            "    Uninstalling tensorflow-estimator-2.8.0:\n",
            "      Successfully uninstalled tensorflow-estimator-2.8.0\n",
            "  Attempting uninstall: keras\n",
            "    Found existing installation: keras 2.8.0\n",
            "    Uninstalling keras-2.8.0:\n",
            "      Successfully uninstalled keras-2.8.0\n",
            "  Attempting uninstall: gast\n",
            "    Found existing installation: gast 0.5.3\n",
            "    Uninstalling gast-0.5.3:\n",
            "      Successfully uninstalled gast-0.5.3\n",
            "  Attempting uninstall: tensorflow\n",
            "    Found existing installation: tensorflow 2.8.0+zzzcolab20220506162203\n",
            "    Uninstalling tensorflow-2.8.0+zzzcolab20220506162203:\n",
            "      Successfully uninstalled tensorflow-2.8.0+zzzcolab20220506162203\n",
            "Successfully installed gast-0.4.0 keras-2.7.0 tensorflow-2.7.0 tensorflow-estimator-2.7.0\n"
          ]
        },
        {
          "output_type": "display_data",
          "data": {
            "application/vnd.colab-display-data+json": {
              "pip_warning": {
                "packages": [
                  "gast",
                  "keras",
                  "tensorflow"
                ]
              }
            }
          },
          "metadata": {}
        }
      ]
    },
    {
      "cell_type": "markdown",
      "source": [
        "##Lectura de datos"
      ],
      "metadata": {
        "id": "d6ivtQ8_deHn"
      }
    },
    {
      "cell_type": "markdown",
      "source": [
        "Se realiza la lectura de los datos."
      ],
      "metadata": {
        "id": "qQU_AcEzeaez"
      }
    },
    {
      "cell_type": "code",
      "source": [
        "#Simples permisos para leer desde drive\n",
        "auth.authenticate_user()\n",
        "gauth = GoogleAuth()\n",
        "gauth.credentials = GoogleCredentials.get_application_default()\n",
        "drive = GoogleDrive(gauth)"
      ],
      "metadata": {
        "id": "jB54Bg_zeRjP"
      },
      "execution_count": null,
      "outputs": []
    },
    {
      "cell_type": "code",
      "source": [
        "#Link del csv con nuestros datos\n",
        "applications_data = 'https://drive.google.com/file/d/10yhOmSWeG3FJrlDDNFDRzWY1JdRFuXWR/view'\n",
        "\n",
        " \n",
        "# to get the id part of the file\n",
        "id = applications_data.split(\"/\")[-2]\n",
        "downloaded = drive.CreateFile({'id':id})\n",
        "downloaded.GetContentFile('loan_data_2007_2014.csv') \n",
        "df = pd.read_csv('loan_data_2007_2014.csv')"
      ],
      "metadata": {
        "colab": {
          "base_uri": "https://localhost:8080/"
        },
        "id": "2H7oLsQ_eSGR",
        "outputId": "44a18569-a5d1-4d00-ce96-9e7d9ef515ce"
      },
      "execution_count": null,
      "outputs": [
        {
          "output_type": "stream",
          "name": "stderr",
          "text": [
            "/usr/local/lib/python3.7/dist-packages/IPython/core/interactiveshell.py:2882: DtypeWarning: Columns (19) have mixed types.Specify dtype option on import or set low_memory=False.\n",
            "  exec(code_obj, self.user_global_ns, self.user_ns)\n"
          ]
        }
      ]
    },
    {
      "cell_type": "markdown",
      "source": [
        "## Análisis descriptivo de los datos\n",
        "\n",
        "A continuación se realiza un análisis descriptivo a algunas de las características encontradas en nuestra base de datos."
      ],
      "metadata": {
        "id": "Y4EnmDsCW5Rc"
      }
    },
    {
      "cell_type": "markdown",
      "source": [
        "Se observa una muestra del conjunto de datos sin preprocesamiento."
      ],
      "metadata": {
        "id": "VXtr4XCGec2E"
      }
    },
    {
      "cell_type": "code",
      "source": [
        "df.head()"
      ],
      "metadata": {
        "colab": {
          "base_uri": "https://localhost:8080/",
          "height": 386
        },
        "id": "mdF-ZgfKeU2Q",
        "outputId": "87558e95-037e-48bf-b329-67c29e599407"
      },
      "execution_count": null,
      "outputs": [
        {
          "output_type": "execute_result",
          "data": {
            "text/plain": [
              "        id  member_id  loan_amnt  funded_amnt  funded_amnt_inv        term  \\\n",
              "0  1077501    1296599       5000         5000           4975.0   36 months   \n",
              "1  1077430    1314167       2500         2500           2500.0   60 months   \n",
              "2  1077175    1313524       2400         2400           2400.0   36 months   \n",
              "3  1076863    1277178      10000        10000          10000.0   36 months   \n",
              "4  1075358    1311748       3000         3000           3000.0   60 months   \n",
              "\n",
              "   int_rate  installment grade sub_grade  ... total_bal_il il_util  \\\n",
              "0     10.65       162.87     B        B2  ...          NaN     NaN   \n",
              "1     15.27        59.83     C        C4  ...          NaN     NaN   \n",
              "2     15.96        84.33     C        C5  ...          NaN     NaN   \n",
              "3     13.49       339.31     C        C1  ...          NaN     NaN   \n",
              "4     12.69        67.79     B        B5  ...          NaN     NaN   \n",
              "\n",
              "  open_rv_12m  open_rv_24m max_bal_bc all_util total_rev_hi_lim inq_fi  \\\n",
              "0         NaN          NaN        NaN      NaN              NaN    NaN   \n",
              "1         NaN          NaN        NaN      NaN              NaN    NaN   \n",
              "2         NaN          NaN        NaN      NaN              NaN    NaN   \n",
              "3         NaN          NaN        NaN      NaN              NaN    NaN   \n",
              "4         NaN          NaN        NaN      NaN              NaN    NaN   \n",
              "\n",
              "  total_cu_tl inq_last_12m  \n",
              "0         NaN          NaN  \n",
              "1         NaN          NaN  \n",
              "2         NaN          NaN  \n",
              "3         NaN          NaN  \n",
              "4         NaN          NaN  \n",
              "\n",
              "[5 rows x 74 columns]"
            ],
            "text/html": [
              "\n",
              "  <div id=\"df-ef1a0e41-ca43-448a-bd61-a3c8d1799602\">\n",
              "    <div class=\"colab-df-container\">\n",
              "      <div>\n",
              "<style scoped>\n",
              "    .dataframe tbody tr th:only-of-type {\n",
              "        vertical-align: middle;\n",
              "    }\n",
              "\n",
              "    .dataframe tbody tr th {\n",
              "        vertical-align: top;\n",
              "    }\n",
              "\n",
              "    .dataframe thead th {\n",
              "        text-align: right;\n",
              "    }\n",
              "</style>\n",
              "<table border=\"1\" class=\"dataframe\">\n",
              "  <thead>\n",
              "    <tr style=\"text-align: right;\">\n",
              "      <th></th>\n",
              "      <th>id</th>\n",
              "      <th>member_id</th>\n",
              "      <th>loan_amnt</th>\n",
              "      <th>funded_amnt</th>\n",
              "      <th>funded_amnt_inv</th>\n",
              "      <th>term</th>\n",
              "      <th>int_rate</th>\n",
              "      <th>installment</th>\n",
              "      <th>grade</th>\n",
              "      <th>sub_grade</th>\n",
              "      <th>...</th>\n",
              "      <th>total_bal_il</th>\n",
              "      <th>il_util</th>\n",
              "      <th>open_rv_12m</th>\n",
              "      <th>open_rv_24m</th>\n",
              "      <th>max_bal_bc</th>\n",
              "      <th>all_util</th>\n",
              "      <th>total_rev_hi_lim</th>\n",
              "      <th>inq_fi</th>\n",
              "      <th>total_cu_tl</th>\n",
              "      <th>inq_last_12m</th>\n",
              "    </tr>\n",
              "  </thead>\n",
              "  <tbody>\n",
              "    <tr>\n",
              "      <th>0</th>\n",
              "      <td>1077501</td>\n",
              "      <td>1296599</td>\n",
              "      <td>5000</td>\n",
              "      <td>5000</td>\n",
              "      <td>4975.0</td>\n",
              "      <td>36 months</td>\n",
              "      <td>10.65</td>\n",
              "      <td>162.87</td>\n",
              "      <td>B</td>\n",
              "      <td>B2</td>\n",
              "      <td>...</td>\n",
              "      <td>NaN</td>\n",
              "      <td>NaN</td>\n",
              "      <td>NaN</td>\n",
              "      <td>NaN</td>\n",
              "      <td>NaN</td>\n",
              "      <td>NaN</td>\n",
              "      <td>NaN</td>\n",
              "      <td>NaN</td>\n",
              "      <td>NaN</td>\n",
              "      <td>NaN</td>\n",
              "    </tr>\n",
              "    <tr>\n",
              "      <th>1</th>\n",
              "      <td>1077430</td>\n",
              "      <td>1314167</td>\n",
              "      <td>2500</td>\n",
              "      <td>2500</td>\n",
              "      <td>2500.0</td>\n",
              "      <td>60 months</td>\n",
              "      <td>15.27</td>\n",
              "      <td>59.83</td>\n",
              "      <td>C</td>\n",
              "      <td>C4</td>\n",
              "      <td>...</td>\n",
              "      <td>NaN</td>\n",
              "      <td>NaN</td>\n",
              "      <td>NaN</td>\n",
              "      <td>NaN</td>\n",
              "      <td>NaN</td>\n",
              "      <td>NaN</td>\n",
              "      <td>NaN</td>\n",
              "      <td>NaN</td>\n",
              "      <td>NaN</td>\n",
              "      <td>NaN</td>\n",
              "    </tr>\n",
              "    <tr>\n",
              "      <th>2</th>\n",
              "      <td>1077175</td>\n",
              "      <td>1313524</td>\n",
              "      <td>2400</td>\n",
              "      <td>2400</td>\n",
              "      <td>2400.0</td>\n",
              "      <td>36 months</td>\n",
              "      <td>15.96</td>\n",
              "      <td>84.33</td>\n",
              "      <td>C</td>\n",
              "      <td>C5</td>\n",
              "      <td>...</td>\n",
              "      <td>NaN</td>\n",
              "      <td>NaN</td>\n",
              "      <td>NaN</td>\n",
              "      <td>NaN</td>\n",
              "      <td>NaN</td>\n",
              "      <td>NaN</td>\n",
              "      <td>NaN</td>\n",
              "      <td>NaN</td>\n",
              "      <td>NaN</td>\n",
              "      <td>NaN</td>\n",
              "    </tr>\n",
              "    <tr>\n",
              "      <th>3</th>\n",
              "      <td>1076863</td>\n",
              "      <td>1277178</td>\n",
              "      <td>10000</td>\n",
              "      <td>10000</td>\n",
              "      <td>10000.0</td>\n",
              "      <td>36 months</td>\n",
              "      <td>13.49</td>\n",
              "      <td>339.31</td>\n",
              "      <td>C</td>\n",
              "      <td>C1</td>\n",
              "      <td>...</td>\n",
              "      <td>NaN</td>\n",
              "      <td>NaN</td>\n",
              "      <td>NaN</td>\n",
              "      <td>NaN</td>\n",
              "      <td>NaN</td>\n",
              "      <td>NaN</td>\n",
              "      <td>NaN</td>\n",
              "      <td>NaN</td>\n",
              "      <td>NaN</td>\n",
              "      <td>NaN</td>\n",
              "    </tr>\n",
              "    <tr>\n",
              "      <th>4</th>\n",
              "      <td>1075358</td>\n",
              "      <td>1311748</td>\n",
              "      <td>3000</td>\n",
              "      <td>3000</td>\n",
              "      <td>3000.0</td>\n",
              "      <td>60 months</td>\n",
              "      <td>12.69</td>\n",
              "      <td>67.79</td>\n",
              "      <td>B</td>\n",
              "      <td>B5</td>\n",
              "      <td>...</td>\n",
              "      <td>NaN</td>\n",
              "      <td>NaN</td>\n",
              "      <td>NaN</td>\n",
              "      <td>NaN</td>\n",
              "      <td>NaN</td>\n",
              "      <td>NaN</td>\n",
              "      <td>NaN</td>\n",
              "      <td>NaN</td>\n",
              "      <td>NaN</td>\n",
              "      <td>NaN</td>\n",
              "    </tr>\n",
              "  </tbody>\n",
              "</table>\n",
              "<p>5 rows × 74 columns</p>\n",
              "</div>\n",
              "      <button class=\"colab-df-convert\" onclick=\"convertToInteractive('df-ef1a0e41-ca43-448a-bd61-a3c8d1799602')\"\n",
              "              title=\"Convert this dataframe to an interactive table.\"\n",
              "              style=\"display:none;\">\n",
              "        \n",
              "  <svg xmlns=\"http://www.w3.org/2000/svg\" height=\"24px\"viewBox=\"0 0 24 24\"\n",
              "       width=\"24px\">\n",
              "    <path d=\"M0 0h24v24H0V0z\" fill=\"none\"/>\n",
              "    <path d=\"M18.56 5.44l.94 2.06.94-2.06 2.06-.94-2.06-.94-.94-2.06-.94 2.06-2.06.94zm-11 1L8.5 8.5l.94-2.06 2.06-.94-2.06-.94L8.5 2.5l-.94 2.06-2.06.94zm10 10l.94 2.06.94-2.06 2.06-.94-2.06-.94-.94-2.06-.94 2.06-2.06.94z\"/><path d=\"M17.41 7.96l-1.37-1.37c-.4-.4-.92-.59-1.43-.59-.52 0-1.04.2-1.43.59L10.3 9.45l-7.72 7.72c-.78.78-.78 2.05 0 2.83L4 21.41c.39.39.9.59 1.41.59.51 0 1.02-.2 1.41-.59l7.78-7.78 2.81-2.81c.8-.78.8-2.07 0-2.86zM5.41 20L4 18.59l7.72-7.72 1.47 1.35L5.41 20z\"/>\n",
              "  </svg>\n",
              "      </button>\n",
              "      \n",
              "  <style>\n",
              "    .colab-df-container {\n",
              "      display:flex;\n",
              "      flex-wrap:wrap;\n",
              "      gap: 12px;\n",
              "    }\n",
              "\n",
              "    .colab-df-convert {\n",
              "      background-color: #E8F0FE;\n",
              "      border: none;\n",
              "      border-radius: 50%;\n",
              "      cursor: pointer;\n",
              "      display: none;\n",
              "      fill: #1967D2;\n",
              "      height: 32px;\n",
              "      padding: 0 0 0 0;\n",
              "      width: 32px;\n",
              "    }\n",
              "\n",
              "    .colab-df-convert:hover {\n",
              "      background-color: #E2EBFA;\n",
              "      box-shadow: 0px 1px 2px rgba(60, 64, 67, 0.3), 0px 1px 3px 1px rgba(60, 64, 67, 0.15);\n",
              "      fill: #174EA6;\n",
              "    }\n",
              "\n",
              "    [theme=dark] .colab-df-convert {\n",
              "      background-color: #3B4455;\n",
              "      fill: #D2E3FC;\n",
              "    }\n",
              "\n",
              "    [theme=dark] .colab-df-convert:hover {\n",
              "      background-color: #434B5C;\n",
              "      box-shadow: 0px 1px 3px 1px rgba(0, 0, 0, 0.15);\n",
              "      filter: drop-shadow(0px 1px 2px rgba(0, 0, 0, 0.3));\n",
              "      fill: #FFFFFF;\n",
              "    }\n",
              "  </style>\n",
              "\n",
              "      <script>\n",
              "        const buttonEl =\n",
              "          document.querySelector('#df-ef1a0e41-ca43-448a-bd61-a3c8d1799602 button.colab-df-convert');\n",
              "        buttonEl.style.display =\n",
              "          google.colab.kernel.accessAllowed ? 'block' : 'none';\n",
              "\n",
              "        async function convertToInteractive(key) {\n",
              "          const element = document.querySelector('#df-ef1a0e41-ca43-448a-bd61-a3c8d1799602');\n",
              "          const dataTable =\n",
              "            await google.colab.kernel.invokeFunction('convertToInteractive',\n",
              "                                                     [key], {});\n",
              "          if (!dataTable) return;\n",
              "\n",
              "          const docLinkHtml = 'Like what you see? Visit the ' +\n",
              "            '<a target=\"_blank\" href=https://colab.research.google.com/notebooks/data_table.ipynb>data table notebook</a>'\n",
              "            + ' to learn more about interactive tables.';\n",
              "          element.innerHTML = '';\n",
              "          dataTable['output_type'] = 'display_data';\n",
              "          await google.colab.output.renderOutput(dataTable, element);\n",
              "          const docLink = document.createElement('div');\n",
              "          docLink.innerHTML = docLinkHtml;\n",
              "          element.appendChild(docLink);\n",
              "        }\n",
              "      </script>\n",
              "    </div>\n",
              "  </div>\n",
              "  "
            ]
          },
          "metadata": {},
          "execution_count": 4
        }
      ]
    },
    {
      "cell_type": "markdown",
      "source": [
        "Se crea una base de datos para realizar el análisis, dejando solo las características que no contengan valores nulos para un correcto análisis y mostramos un resumen de nuestros datos a analizar."
      ],
      "metadata": {
        "id": "x8asRW6IkH_e"
      }
    },
    {
      "cell_type": "code",
      "source": [
        "analisis = df.dropna(axis=1,how='any')\n",
        "analisis.drop(['id','member_id'], axis=1, inplace=True)\n",
        "analisis.describe()"
      ],
      "metadata": {
        "colab": {
          "base_uri": "https://localhost:8080/",
          "height": 473
        },
        "id": "Xsvb8MEtXBnU",
        "outputId": "a3cf3335-1212-4696-ab23-c6d2006d03ec"
      },
      "execution_count": null,
      "outputs": [
        {
          "output_type": "stream",
          "name": "stderr",
          "text": [
            "/usr/local/lib/python3.7/dist-packages/pandas/core/frame.py:4913: SettingWithCopyWarning: \n",
            "A value is trying to be set on a copy of a slice from a DataFrame\n",
            "\n",
            "See the caveats in the documentation: https://pandas.pydata.org/pandas-docs/stable/user_guide/indexing.html#returning-a-view-versus-a-copy\n",
            "  errors=errors,\n"
          ]
        },
        {
          "output_type": "execute_result",
          "data": {
            "text/plain": [
              "   loan_amnt  funded_amnt  funded_amnt_inv        term  int_rate  installment  \\\n",
              "0       5000         5000           4975.0   36 months     10.65       162.87   \n",
              "1       2500         2500           2500.0   60 months     15.27        59.83   \n",
              "2       2400         2400           2400.0   36 months     15.96        84.33   \n",
              "3      10000        10000          10000.0   36 months     13.49       339.31   \n",
              "4       3000         3000           3000.0   60 months     12.69        67.79   \n",
              "\n",
              "  grade sub_grade home_ownership verification_status  ...   total_pymnt  \\\n",
              "0     B        B2           RENT            Verified  ...   5861.071414   \n",
              "1     C        C4           RENT     Source Verified  ...   1008.710000   \n",
              "2     C        C5           RENT        Not Verified  ...   3003.653644   \n",
              "3     C        C1           RENT     Source Verified  ...  12226.302210   \n",
              "4     B        B5           RENT     Source Verified  ...   3242.170000   \n",
              "\n",
              "  total_pymnt_inv total_rec_prncp total_rec_int total_rec_late_fee recoveries  \\\n",
              "0         5831.78         5000.00        861.07               0.00       0.00   \n",
              "1         1008.71          456.46        435.17               0.00     117.08   \n",
              "2         3003.65         2400.00        603.65               0.00       0.00   \n",
              "3        12226.30        10000.00       2209.33              16.97       0.00   \n",
              "4         3242.17         2233.10       1009.07               0.00       0.00   \n",
              "\n",
              "  collection_recovery_fee  last_pymnt_amnt  policy_code application_type  \n",
              "0                    0.00           171.62            1       INDIVIDUAL  \n",
              "1                    1.11           119.66            1       INDIVIDUAL  \n",
              "2                    0.00           649.91            1       INDIVIDUAL  \n",
              "3                    0.00           357.48            1       INDIVIDUAL  \n",
              "4                    0.00            67.79            1       INDIVIDUAL  \n",
              "\n",
              "[5 rows x 32 columns]"
            ],
            "text/html": [
              "\n",
              "  <div id=\"df-ef28d8ac-7f40-4cfc-8618-196d3fcf5cde\">\n",
              "    <div class=\"colab-df-container\">\n",
              "      <div>\n",
              "<style scoped>\n",
              "    .dataframe tbody tr th:only-of-type {\n",
              "        vertical-align: middle;\n",
              "    }\n",
              "\n",
              "    .dataframe tbody tr th {\n",
              "        vertical-align: top;\n",
              "    }\n",
              "\n",
              "    .dataframe thead th {\n",
              "        text-align: right;\n",
              "    }\n",
              "</style>\n",
              "<table border=\"1\" class=\"dataframe\">\n",
              "  <thead>\n",
              "    <tr style=\"text-align: right;\">\n",
              "      <th></th>\n",
              "      <th>loan_amnt</th>\n",
              "      <th>funded_amnt</th>\n",
              "      <th>funded_amnt_inv</th>\n",
              "      <th>term</th>\n",
              "      <th>int_rate</th>\n",
              "      <th>installment</th>\n",
              "      <th>grade</th>\n",
              "      <th>sub_grade</th>\n",
              "      <th>home_ownership</th>\n",
              "      <th>verification_status</th>\n",
              "      <th>...</th>\n",
              "      <th>total_pymnt</th>\n",
              "      <th>total_pymnt_inv</th>\n",
              "      <th>total_rec_prncp</th>\n",
              "      <th>total_rec_int</th>\n",
              "      <th>total_rec_late_fee</th>\n",
              "      <th>recoveries</th>\n",
              "      <th>collection_recovery_fee</th>\n",
              "      <th>last_pymnt_amnt</th>\n",
              "      <th>policy_code</th>\n",
              "      <th>application_type</th>\n",
              "    </tr>\n",
              "  </thead>\n",
              "  <tbody>\n",
              "    <tr>\n",
              "      <th>0</th>\n",
              "      <td>5000</td>\n",
              "      <td>5000</td>\n",
              "      <td>4975.0</td>\n",
              "      <td>36 months</td>\n",
              "      <td>10.65</td>\n",
              "      <td>162.87</td>\n",
              "      <td>B</td>\n",
              "      <td>B2</td>\n",
              "      <td>RENT</td>\n",
              "      <td>Verified</td>\n",
              "      <td>...</td>\n",
              "      <td>5861.071414</td>\n",
              "      <td>5831.78</td>\n",
              "      <td>5000.00</td>\n",
              "      <td>861.07</td>\n",
              "      <td>0.00</td>\n",
              "      <td>0.00</td>\n",
              "      <td>0.00</td>\n",
              "      <td>171.62</td>\n",
              "      <td>1</td>\n",
              "      <td>INDIVIDUAL</td>\n",
              "    </tr>\n",
              "    <tr>\n",
              "      <th>1</th>\n",
              "      <td>2500</td>\n",
              "      <td>2500</td>\n",
              "      <td>2500.0</td>\n",
              "      <td>60 months</td>\n",
              "      <td>15.27</td>\n",
              "      <td>59.83</td>\n",
              "      <td>C</td>\n",
              "      <td>C4</td>\n",
              "      <td>RENT</td>\n",
              "      <td>Source Verified</td>\n",
              "      <td>...</td>\n",
              "      <td>1008.710000</td>\n",
              "      <td>1008.71</td>\n",
              "      <td>456.46</td>\n",
              "      <td>435.17</td>\n",
              "      <td>0.00</td>\n",
              "      <td>117.08</td>\n",
              "      <td>1.11</td>\n",
              "      <td>119.66</td>\n",
              "      <td>1</td>\n",
              "      <td>INDIVIDUAL</td>\n",
              "    </tr>\n",
              "    <tr>\n",
              "      <th>2</th>\n",
              "      <td>2400</td>\n",
              "      <td>2400</td>\n",
              "      <td>2400.0</td>\n",
              "      <td>36 months</td>\n",
              "      <td>15.96</td>\n",
              "      <td>84.33</td>\n",
              "      <td>C</td>\n",
              "      <td>C5</td>\n",
              "      <td>RENT</td>\n",
              "      <td>Not Verified</td>\n",
              "      <td>...</td>\n",
              "      <td>3003.653644</td>\n",
              "      <td>3003.65</td>\n",
              "      <td>2400.00</td>\n",
              "      <td>603.65</td>\n",
              "      <td>0.00</td>\n",
              "      <td>0.00</td>\n",
              "      <td>0.00</td>\n",
              "      <td>649.91</td>\n",
              "      <td>1</td>\n",
              "      <td>INDIVIDUAL</td>\n",
              "    </tr>\n",
              "    <tr>\n",
              "      <th>3</th>\n",
              "      <td>10000</td>\n",
              "      <td>10000</td>\n",
              "      <td>10000.0</td>\n",
              "      <td>36 months</td>\n",
              "      <td>13.49</td>\n",
              "      <td>339.31</td>\n",
              "      <td>C</td>\n",
              "      <td>C1</td>\n",
              "      <td>RENT</td>\n",
              "      <td>Source Verified</td>\n",
              "      <td>...</td>\n",
              "      <td>12226.302210</td>\n",
              "      <td>12226.30</td>\n",
              "      <td>10000.00</td>\n",
              "      <td>2209.33</td>\n",
              "      <td>16.97</td>\n",
              "      <td>0.00</td>\n",
              "      <td>0.00</td>\n",
              "      <td>357.48</td>\n",
              "      <td>1</td>\n",
              "      <td>INDIVIDUAL</td>\n",
              "    </tr>\n",
              "    <tr>\n",
              "      <th>4</th>\n",
              "      <td>3000</td>\n",
              "      <td>3000</td>\n",
              "      <td>3000.0</td>\n",
              "      <td>60 months</td>\n",
              "      <td>12.69</td>\n",
              "      <td>67.79</td>\n",
              "      <td>B</td>\n",
              "      <td>B5</td>\n",
              "      <td>RENT</td>\n",
              "      <td>Source Verified</td>\n",
              "      <td>...</td>\n",
              "      <td>3242.170000</td>\n",
              "      <td>3242.17</td>\n",
              "      <td>2233.10</td>\n",
              "      <td>1009.07</td>\n",
              "      <td>0.00</td>\n",
              "      <td>0.00</td>\n",
              "      <td>0.00</td>\n",
              "      <td>67.79</td>\n",
              "      <td>1</td>\n",
              "      <td>INDIVIDUAL</td>\n",
              "    </tr>\n",
              "  </tbody>\n",
              "</table>\n",
              "<p>5 rows × 32 columns</p>\n",
              "</div>\n",
              "      <button class=\"colab-df-convert\" onclick=\"convertToInteractive('df-ef28d8ac-7f40-4cfc-8618-196d3fcf5cde')\"\n",
              "              title=\"Convert this dataframe to an interactive table.\"\n",
              "              style=\"display:none;\">\n",
              "        \n",
              "  <svg xmlns=\"http://www.w3.org/2000/svg\" height=\"24px\"viewBox=\"0 0 24 24\"\n",
              "       width=\"24px\">\n",
              "    <path d=\"M0 0h24v24H0V0z\" fill=\"none\"/>\n",
              "    <path d=\"M18.56 5.44l.94 2.06.94-2.06 2.06-.94-2.06-.94-.94-2.06-.94 2.06-2.06.94zm-11 1L8.5 8.5l.94-2.06 2.06-.94-2.06-.94L8.5 2.5l-.94 2.06-2.06.94zm10 10l.94 2.06.94-2.06 2.06-.94-2.06-.94-.94-2.06-.94 2.06-2.06.94z\"/><path d=\"M17.41 7.96l-1.37-1.37c-.4-.4-.92-.59-1.43-.59-.52 0-1.04.2-1.43.59L10.3 9.45l-7.72 7.72c-.78.78-.78 2.05 0 2.83L4 21.41c.39.39.9.59 1.41.59.51 0 1.02-.2 1.41-.59l7.78-7.78 2.81-2.81c.8-.78.8-2.07 0-2.86zM5.41 20L4 18.59l7.72-7.72 1.47 1.35L5.41 20z\"/>\n",
              "  </svg>\n",
              "      </button>\n",
              "      \n",
              "  <style>\n",
              "    .colab-df-container {\n",
              "      display:flex;\n",
              "      flex-wrap:wrap;\n",
              "      gap: 12px;\n",
              "    }\n",
              "\n",
              "    .colab-df-convert {\n",
              "      background-color: #E8F0FE;\n",
              "      border: none;\n",
              "      border-radius: 50%;\n",
              "      cursor: pointer;\n",
              "      display: none;\n",
              "      fill: #1967D2;\n",
              "      height: 32px;\n",
              "      padding: 0 0 0 0;\n",
              "      width: 32px;\n",
              "    }\n",
              "\n",
              "    .colab-df-convert:hover {\n",
              "      background-color: #E2EBFA;\n",
              "      box-shadow: 0px 1px 2px rgba(60, 64, 67, 0.3), 0px 1px 3px 1px rgba(60, 64, 67, 0.15);\n",
              "      fill: #174EA6;\n",
              "    }\n",
              "\n",
              "    [theme=dark] .colab-df-convert {\n",
              "      background-color: #3B4455;\n",
              "      fill: #D2E3FC;\n",
              "    }\n",
              "\n",
              "    [theme=dark] .colab-df-convert:hover {\n",
              "      background-color: #434B5C;\n",
              "      box-shadow: 0px 1px 3px 1px rgba(0, 0, 0, 0.15);\n",
              "      filter: drop-shadow(0px 1px 2px rgba(0, 0, 0, 0.3));\n",
              "      fill: #FFFFFF;\n",
              "    }\n",
              "  </style>\n",
              "\n",
              "      <script>\n",
              "        const buttonEl =\n",
              "          document.querySelector('#df-ef28d8ac-7f40-4cfc-8618-196d3fcf5cde button.colab-df-convert');\n",
              "        buttonEl.style.display =\n",
              "          google.colab.kernel.accessAllowed ? 'block' : 'none';\n",
              "\n",
              "        async function convertToInteractive(key) {\n",
              "          const element = document.querySelector('#df-ef28d8ac-7f40-4cfc-8618-196d3fcf5cde');\n",
              "          const dataTable =\n",
              "            await google.colab.kernel.invokeFunction('convertToInteractive',\n",
              "                                                     [key], {});\n",
              "          if (!dataTable) return;\n",
              "\n",
              "          const docLinkHtml = 'Like what you see? Visit the ' +\n",
              "            '<a target=\"_blank\" href=https://colab.research.google.com/notebooks/data_table.ipynb>data table notebook</a>'\n",
              "            + ' to learn more about interactive tables.';\n",
              "          element.innerHTML = '';\n",
              "          dataTable['output_type'] = 'display_data';\n",
              "          await google.colab.output.renderOutput(dataTable, element);\n",
              "          const docLink = document.createElement('div');\n",
              "          docLink.innerHTML = docLinkHtml;\n",
              "          element.appendChild(docLink);\n",
              "        }\n",
              "      </script>\n",
              "    </div>\n",
              "  </div>\n",
              "  "
            ]
          },
          "metadata": {},
          "execution_count": 102
        }
      ]
    },
    {
      "cell_type": "markdown",
      "source": [
        "### Estado de crédito\n",
        "\n",
        "El estado de crédito se clasifica en lo siguiente: Current (Actual), Fully Paid (Completamente pagado), Charged Off (Cobrado), Late (En mora), In Grace Period (En período de gracia), Does not meet the credit policy (No cumple con la política de crédito) y Default (Incumplimiento)"
      ],
      "metadata": {
        "id": "5gyClidysZoM"
      }
    },
    {
      "cell_type": "code",
      "source": [
        "loan_status = analisis['loan_status'].value_counts().reset_index()\n",
        "loan_status.rename(columns={'index':'Loan Status','loan_status':'Quantity'}, inplace=True)"
      ],
      "metadata": {
        "id": "mcKuoCK2rxqQ"
      },
      "execution_count": null,
      "outputs": []
    },
    {
      "cell_type": "code",
      "source": [
        "sns.set(font_scale=1)\n",
        "plt.rcParams[\"figure.figsize\"] = [5.00, 5.00]\n",
        "\n",
        "# Bar graph with Current, Fully Paid, Charged Off and Late (31-120 days)\n",
        "loan_status_graph1 = sns.barplot(x=loan_status['Loan Status'][:4],y='Quantity',\n",
        "                               data=loan_status,palette='viridis')\n",
        "loan_status_graph1.bar_label(loan_status_graph1.containers[0])\n",
        "\n",
        "plt.title('Loan Status 1')\n",
        "plt.xticks(\n",
        "    rotation=45, \n",
        "    horizontalalignment='right'  \n",
        ")"
      ],
      "metadata": {
        "colab": {
          "base_uri": "https://localhost:8080/",
          "height": 513
        },
        "id": "yZesq6q7uX3x",
        "outputId": "b6c5c6ed-0735-444b-fbd7-9904a9d94344"
      },
      "execution_count": null,
      "outputs": [
        {
          "output_type": "execute_result",
          "data": {
            "text/plain": [
              "(array([0, 1, 2, 3]),\n",
              " [Text(0, 0, 'Current'),\n",
              "  Text(1, 0, 'Fully Paid'),\n",
              "  Text(2, 0, 'Charged Off'),\n",
              "  Text(3, 0, 'Late (31-120 days)')])"
            ]
          },
          "metadata": {},
          "execution_count": 47
        },
        {
          "output_type": "display_data",
          "data": {
            "text/plain": [
              "<Figure size 360x360 with 1 Axes>"
            ],
            "image/png": "[encoded data removed]"
          },
          "metadata": {}
        }
      ]
    },
    {
      "cell_type": "code",
      "source": [
        "sns.set(font_scale=1)\n",
        "plt.rcParams[\"figure.figsize\"] = [5.00, 5.00]\n",
        "\n",
        "# Bar graph with\n",
        "loan_status_graph2 = sns.barplot(x=loan_status['Loan Status'][4:],y='Quantity',\n",
        "                               data=loan_status,palette='viridis')\n",
        "loan_status_graph2.bar_label(loan_status_graph2.containers[0])\n",
        "\n",
        "plt.title('Loan Status 2')\n",
        "plt.xticks(\n",
        "    rotation=45, \n",
        "    horizontalalignment='right'  \n",
        ")"
      ],
      "metadata": {
        "colab": {
          "base_uri": "https://localhost:8080/",
          "height": 658
        },
        "id": "SS1lZs05zmH5",
        "outputId": "357db165-a2f9-4fa0-8759-ac592c610bed"
      },
      "execution_count": null,
      "outputs": [
        {
          "output_type": "execute_result",
          "data": {
            "text/plain": [
              "(array([0, 1, 2, 3, 4]),\n",
              " [Text(0, 0, 'In Grace Period'),\n",
              "  Text(1, 0, 'Does not meet the credit policy. Status:Fully Paid'),\n",
              "  Text(2, 0, 'Late (16-30 days)'),\n",
              "  Text(3, 0, 'Default'),\n",
              "  Text(4, 0, 'Does not meet the credit policy. Status:Charged Off')])"
            ]
          },
          "metadata": {},
          "execution_count": 48
        },
        {
          "output_type": "display_data",
          "data": {
            "text/plain": [
              "<Figure size 360x360 with 1 Axes>"
            ],
            "image/png": "[encoded data removed]"
          },
          "metadata": {}
        }
      ]
    },
    {
      "cell_type": "markdown",
      "source": [
        "Al observar los gráficos de barras, se concluye que las personas por lo general tienen un crédito actual o lo han pagado por completo (Véase Loan Status 1)."
      ],
      "metadata": {
        "id": "SEdM9JZj0J0S"
      }
    },
    {
      "cell_type": "markdown",
      "source": [
        "Ahora, se calcula la cantidad de personas en el estado Default y las que no están con aquel estado. En el caso de Default se considera que, aquellos que tienen el estado Late (31-120 days), también entran en Default."
      ],
      "metadata": {
        "id": "_sJ5sIMsn8Hs"
      }
    },
    {
      "cell_type": "code",
      "source": [
        "analisis['loan_status'].value_counts().reset_index()\n",
        "loanhist = pd.DataFrame()\n",
        "loanhist['Loan Status'] = ['Default' if ((status == 'Default') or \n",
        "                                         (status == 'Late (31-120 days)')) else\n",
        "                            'Not Default' for status in analisis['loan_status']]"
      ],
      "metadata": {
        "id": "mloQer6-jhVb"
      },
      "execution_count": null,
      "outputs": []
    },
    {
      "cell_type": "code",
      "source": [
        "loanhist.value_counts()"
      ],
      "metadata": {
        "colab": {
          "base_uri": "https://localhost:8080/"
        },
        "id": "kFuMCMuhlPyr",
        "outputId": "1b8f4cb3-8575-4b5e-b2e0-d736154d43c5"
      },
      "execution_count": null,
      "outputs": [
        {
          "output_type": "execute_result",
          "data": {
            "text/plain": [
              "Loan Status\n",
              "Not Default    458553\n",
              "Default          7732\n",
              "dtype: int64"
            ]
          },
          "metadata": {},
          "execution_count": 129
        }
      ]
    },
    {
      "cell_type": "markdown",
      "source": [
        "Al ver los resultados, se concluye que la gran mayoría que solicitaron crédito no se encuentran en estado de Default, es decir que cumplen con sus obligaciones financieras."
      ],
      "metadata": {
        "id": "euF5ZcLdohXM"
      }
    },
    {
      "cell_type": "markdown",
      "source": [
        "### Propiedad de la vivienda\n",
        "\n",
        "El tipo de propiedad de vivienda puede influenciar en la solicitud de crédito. Aquí se muestra, por medio de una gráfica de barras, la cantidad de personas que solicitaron crédito según su tipo de propiedad de vivienda. \n",
        "\n",
        "La propiedad de vivienda se clasifica de la siguiente manera: MORTGAGE (Hipoteca), RENT (Renta), OWN (Propietario), OTHER (Otro), NONE (Ninguno) o ANY (Alguno)."
      ],
      "metadata": {
        "id": "VHSzgt3Gioi-"
      }
    },
    {
      "cell_type": "code",
      "source": [
        "ownership = analisis['home_ownership'].value_counts().reset_index()\n",
        "ownership.rename(columns={'index':'Home Ownership','home_ownership':'Quantity'}, inplace=True)"
      ],
      "metadata": {
        "id": "A2AtF2Jca2el"
      },
      "execution_count": null,
      "outputs": []
    },
    {
      "cell_type": "code",
      "source": [
        "sns.set(font_scale=1)\n",
        "plt.rcParams[\"figure.figsize\"] = [5.00, 10.00]\n",
        "f, axes = plt.subplots(2, 1)\n",
        "\n",
        "# Bar graph with MORTGAGE, RENT y OWN\n",
        "ownership_graph1 = sns.barplot(x=ownership['Home Ownership'][:3],y='Quantity',\n",
        "                               data=ownership,palette='viridis',ax=axes[0])\n",
        "ownership_graph1.bar_label(ownership_graph1.containers[0])\n",
        "# Bar graph with OTHER, NONE y ANY\n",
        "ownership_graph2 = sns.barplot(x=ownership['Home Ownership'][3:],y='Quantity',\n",
        "                               data=ownership,palette='viridis',ax=axes[1])\n",
        "ownership_graph2.bar_label(ownership_graph2.containers[0])\n",
        "\n",
        "plt.show()"
      ],
      "metadata": {
        "colab": {
          "base_uri": "https://localhost:8080/",
          "height": 612
        },
        "id": "r3GbpYQjcdl9",
        "outputId": "f5f29715-220f-464e-bae5-283c266a40c6"
      },
      "execution_count": null,
      "outputs": [
        {
          "output_type": "display_data",
          "data": {
            "text/plain": [
              "<Figure size 360x720 with 2 Axes>"
            ],
            "image/png": "[encoded data removed]"
          },
          "metadata": {}
        }
      ]
    },
    {
      "cell_type": "markdown",
      "source": [
        "Se realizaron dos gráficos de barras debido a que la escala del primer gráfico no permitía ver la cantidad de datos de algunos tipos de propiedad. Ahora, se observa que la mayoría de personas que solicitaron crédito viven en hipoteca o rentan."
      ],
      "metadata": {
        "id": "GvYsbAWfqPN4"
      }
    },
    {
      "cell_type": "markdown",
      "source": [
        "### Estado donde reside el solicitante\n",
        "\n",
        "Los siguientes son estados de EEUU donde residen los solicitantes de crédito: \n",
        "\n",
        "California (CA), New York (NY), Texas (TX), Florida (FL), Illinois (IL), New Jersey (NJ), Pensilvania (PA), Ohio (OH), Georgia (GA), Virginia (VA), North Carolina (NC), Michigan (MI), Massachusetts (MA), Maryland (MD), Arizona (AZ), Washington (WA), Colorado (CO), Minnesota (MN), Missouri (MO), Connecticut (CT), Indiana (IN), Nevada (NV), Tennessee (TN), Oregon (OR), Wisconsin (WI), Alabama (AL), South Carolina (SC), Louisiana (LA), Kentucky (KY), Kansas (KS), Oklahoma (OK), Arkansas (AR), Utah (UT), New Mexico (NM), Hawaii (HI), West Virginia (WV), New Hampshire (NH), Rhoad Island (RI), District of Columbia (DC), Montana (MT), Delaware (DE), Alaska (AK), Mississippi (MS), Wyoming (WY), South Dakota (SD), Vermont (VT), Iowa (IA), Nebraska (NE), Idaho (ID) y Maine (ME)."
      ],
      "metadata": {
        "id": "J_uXog7-GEz_"
      }
    },
    {
      "cell_type": "code",
      "source": [
        "states = analisis['addr_state'].value_counts().reset_index()\n",
        "states.rename(columns={'index':'States','addr_state':'Quantity'}, inplace=True)"
      ],
      "metadata": {
        "id": "-aNJYPlk1cfm"
      },
      "execution_count": null,
      "outputs": []
    },
    {
      "cell_type": "code",
      "source": [
        "sns.set(font_scale=1)\n",
        "plt.rcParams[\"figure.figsize\"] = [10.00, 30.00]\n",
        "f, axes = plt.subplots(5, 1)\n",
        "\n",
        "# Bar graph for the states\n",
        "states_graph1 = sns.barplot(x=states['States'][:10],y='Quantity',\n",
        "                               data=states,palette='viridis', ax=axes[0])\n",
        "states_graph1.bar_label(states_graph1.containers[0])\n",
        "states_graph1 = sns.barplot(x=states['States'][10:20],y='Quantity',\n",
        "                               data=states,palette='viridis', ax=axes[1])\n",
        "states_graph1.bar_label(states_graph1.containers[0])\n",
        "states_graph1 = sns.barplot(x=states['States'][20:30],y='Quantity',\n",
        "                               data=states,palette='viridis', ax=axes[2])\n",
        "states_graph1.bar_label(states_graph1.containers[0])\n",
        "states_graph1 = sns.barplot(x=states['States'][30:40],y='Quantity',\n",
        "                               data=states,palette='viridis', ax=axes[3])\n",
        "states_graph1.bar_label(states_graph1.containers[0])\n",
        "states_graph1 = sns.barplot(x=states['States'][40:],y='Quantity',\n",
        "                               data=states,palette='viridis', ax=axes[4])\n",
        "states_graph1.bar_label(states_graph1.containers[0])"
      ],
      "metadata": {
        "colab": {
          "base_uri": "https://localhost:8080/",
          "height": 1000
        },
        "id": "jw_GUlqGPNIC",
        "outputId": "50c9abf4-4f96-40d8-bb59-1f6f0e554546"
      },
      "execution_count": null,
      "outputs": [
        {
          "output_type": "execute_result",
          "data": {
            "text/plain": [
              "[Text(0, 0, '1272'),\n",
              " Text(0, 0, '1251'),\n",
              " Text(0, 0, '1226'),\n",
              " Text(0, 0, '1128'),\n",
              " Text(0, 0, '980'),\n",
              " Text(0, 0, '905'),\n",
              " Text(0, 0, '14'),\n",
              " Text(0, 0, '14'),\n",
              " Text(0, 0, '12'),\n",
              " Text(0, 0, '4')]"
            ]
          },
          "metadata": {},
          "execution_count": 68
        },
        {
          "output_type": "display_data",
          "data": {
            "text/plain": [
              "<Figure size 720x2160 with 5 Axes>"
            ],
            "image/png": "[encoded data removed]"
          },
          "metadata": {}
        }
      ]
    },
    {
      "cell_type": "markdown",
      "source": [
        "Al ver la gráfica de barras podemos concluír que el estado donde hay más personas que solicitaron crédito es California."
      ],
      "metadata": {
        "id": "H3XGydbxVw3S"
      }
    },
    {
      "cell_type": "markdown",
      "source": [
        "##Preprocesamiento de datos\n"
      ],
      "metadata": {
        "id": "dWqbMjB6dhSQ"
      }
    },
    {
      "cell_type": "markdown",
      "source": [
        "Se eliminan las columnas que contienen valores nulos (NaN) en su totalidad, ya que no aportarían al modelo a crear."
      ],
      "metadata": {
        "id": "-7z3qfJtetqq"
      }
    },
    {
      "cell_type": "code",
      "source": [
        "df.dropna(axis=1,how='all',inplace=True)"
      ],
      "metadata": {
        "id": "lC9R6KgLemmP"
      },
      "execution_count": null,
      "outputs": []
    },
    {
      "cell_type": "markdown",
      "source": [
        "Se observa que hay gran diversidad de empleos, por ello se eliminarán las variables 'emp_title', 'desc' y 'title'."
      ],
      "metadata": {
        "id": "c_Jv3JKLfVhp"
      }
    },
    {
      "cell_type": "code",
      "source": [
        "#Se nota que hay muchos empleos para usarlos como variable categorica, \n",
        "#por este motivo se borraran 'emp_title', 'desc','title'\n",
        "df['emp_title'].value_counts()"
      ],
      "metadata": {
        "colab": {
          "base_uri": "https://localhost:8080/"
        },
        "id": "wuI8sCaog3Pc",
        "outputId": "ec0fcf20-d4f3-46b0-cff5-333b9782c795"
      },
      "execution_count": null,
      "outputs": [
        {
          "output_type": "execute_result",
          "data": {
            "text/plain": [
              "Teacher                              5399\n",
              "Manager                              4438\n",
              "Registered Nurse                     2316\n",
              "RN                                   2204\n",
              "Supervisor                           1967\n",
              "                                     ... \n",
              "The Eastern Arizona AHEC                1\n",
              "Delaware Quarries.com                   1\n",
              "McCauley trucking and warehousing       1\n",
              "save mart supermarkets                  1\n",
              "Server Engineer Lead                    1\n",
              "Name: emp_title, Length: 205475, dtype: int64"
            ]
          },
          "metadata": {},
          "execution_count": 6
        }
      ]
    },
    {
      "cell_type": "markdown",
      "source": [
        "A continuación se crean las funciones change_time_lapse() y fix_date(). change_time_lapse() permite extraer la cantidad de años de la variable emp_length. fix_date() modifica el formato de fecha de la fecha recibida."
      ],
      "metadata": {
        "id": "xE4Fr6I9iHD7"
      }
    },
    {
      "cell_type": "code",
      "source": [
        "def change_time_lapse(emp_length):\n",
        "  if('10+ years' == emp_length):\n",
        "    return 10\n",
        "  if('< 1 year' == emp_length):\n",
        "    return 0\n",
        "  if('1 year' == emp_length):\n",
        "    return 1\n",
        "  if('3 years' == emp_length):\n",
        "    return 3\n",
        "  if('8 years' == emp_length):\n",
        "    return 8\n",
        "  if('9 years' == emp_length):\n",
        "    return 9\n",
        "  if('4 years'== emp_length):\n",
        "    return 4\n",
        "  if('5 years' == emp_length):\n",
        "    return 5\n",
        "  if('6 years' == emp_length):\n",
        "    return 6\n",
        "  if('2 years' == emp_length):\n",
        "    return 2\n",
        "  if('7 years' == emp_length):\n",
        "    return 7\n",
        "  return -1\n",
        "\n",
        "def fix_date(date):\n",
        "  if(type(date)!=str):\n",
        "    if math.isnan(date) == True:\n",
        "      return date\n",
        "  date = date.replace('-',' ')\n",
        "  date= date.split(' ')\n",
        "  if (int(date[1]) >=0 and int(date[1]) <=22):\n",
        "    date[1]= '20'+ (date[1])\n",
        "  else:\n",
        "    date[1]= '19'+ (date[1])\n",
        "  date = ' '.join(date)\n",
        "  return (datetime.datetime.strptime(\"{0}\".format(date.replace('-',' ')), \"%b %Y\").strftime(\"%m-%Y\"))"
      ],
      "metadata": {
        "id": "-9B493REhLnH"
      },
      "execution_count": null,
      "outputs": []
    },
    {
      "cell_type": "markdown",
      "source": [
        "Se revisa la cantidad de valores nulos (Nan) en la columna emp_length"
      ],
      "metadata": {
        "id": "H_etDteoiQiP"
      }
    },
    {
      "cell_type": "code",
      "source": [
        "df['emp_length'].isna().sum()"
      ],
      "metadata": {
        "colab": {
          "base_uri": "https://localhost:8080/"
        },
        "id": "jw_XMo75iQGF",
        "outputId": "584e7f5f-133f-4737-a4d3-286f44a1aa37"
      },
      "execution_count": null,
      "outputs": [
        {
          "output_type": "execute_result",
          "data": {
            "text/plain": [
              "21008"
            ]
          },
          "metadata": {},
          "execution_count": 8
        }
      ]
    },
    {
      "cell_type": "markdown",
      "source": [
        "Se usa la función change_time_lapse para realizar la transformación del tiempo que el empleado(a) lleva en su trabajo actual."
      ],
      "metadata": {
        "id": "77mYJ3OJia-h"
      }
    },
    {
      "cell_type": "code",
      "source": [
        "df['emp_length'] = df.emp_length.apply(change_time_lapse)"
      ],
      "metadata": {
        "id": "T3fAJBL3iJAb"
      },
      "execution_count": null,
      "outputs": []
    },
    {
      "cell_type": "markdown",
      "source": [
        "Se cambia el formato de algunas columnas que contienen fechas."
      ],
      "metadata": {
        "id": "uELrzu-KisJJ"
      }
    },
    {
      "cell_type": "code",
      "source": [
        "df['earliest_cr_line'] = df.earliest_cr_line.apply(fix_date)\n",
        "df['last_pymnt_d'] = df.last_pymnt_d.apply(fix_date)\n",
        "df['next_pymnt_d'] = df.next_pymnt_d.apply(fix_date)\n",
        "df['last_credit_pull_d'] = df.last_credit_pull_d.apply(fix_date)"
      ],
      "metadata": {
        "id": "6rsoGpR_ix0g"
      },
      "execution_count": null,
      "outputs": []
    },
    {
      "cell_type": "code",
      "source": [
        "df['earliest_cr_line'] = pd.to_datetime(df['earliest_cr_line'], format=\"%m-%Y\")\n",
        "df['last_pymnt_d'] = pd.to_datetime(df['last_pymnt_d'], format=\"%m-%Y\")\n",
        "df['next_pymnt_d'] = pd.to_datetime(df['next_pymnt_d'], format=\"%m-%Y\")\n",
        "df['last_credit_pull_d'] = pd.to_datetime(df['last_credit_pull_d'], \n",
        "                                          format=\"%m-%Y\")"
      ],
      "metadata": {
        "id": "RKQ6-cwri3ny"
      },
      "execution_count": null,
      "outputs": []
    },
    {
      "cell_type": "markdown",
      "source": [
        "Se crean nuevas columnas extrayendo el año de las fechas a las que previamente se aplicó el formato con la función fix_date."
      ],
      "metadata": {
        "id": "3N1X1FlzjER_"
      }
    },
    {
      "cell_type": "code",
      "source": [
        "df['earliest_cr_line_Y'] = pd.to_datetime(df['earliest_cr_line']).dt.year\n",
        "df['last_pymnt_d_Y'] = pd.to_datetime(df['last_pymnt_d']).dt.year\n",
        "df['next_pymnt_d_Y'] = pd.to_datetime(df['next_pymnt_d']).dt.year\n",
        "df['last_credit_pull_d_Y'] = pd.to_datetime(df['last_credit_pull_d']).dt.year"
      ],
      "metadata": {
        "id": "C1lxasDoi-hx"
      },
      "execution_count": null,
      "outputs": []
    },
    {
      "cell_type": "markdown",
      "source": [
        "Basado en la revisión hecha anteriormente se proceden a eliminar las siguientes columnas: 'emp_title', 'desc','title','earliest_cr_line','last_pymnt_d','next_pymnt_d','last_credit_pull_d'."
      ],
      "metadata": {
        "id": "rqJbjD_5jOBH"
      }
    },
    {
      "cell_type": "code",
      "source": [
        "#Se eliminan las columnas que son variables categoricas con demasiadas opciones unicas\n",
        "data = df.drop(['emp_title', 'desc','title','earliest_cr_line','last_pymnt_d','next_pymnt_d','last_credit_pull_d'], axis = 1)"
      ],
      "metadata": {
        "id": "DyrT2IYHjY1F"
      },
      "execution_count": null,
      "outputs": []
    },
    {
      "cell_type": "markdown",
      "source": [
        "Se eliminan las columnas: 'id','member_id','grade','url','zip_code','application_type','addr_state' ya que se consideran poco aportantes para la predicción del riesgo de crédito."
      ],
      "metadata": {
        "id": "iV5FJg7fnJ-5"
      }
    },
    {
      "cell_type": "code",
      "source": [
        "data.drop(['id','member_id','grade','url','zip_code','application_type','addr_state'], axis=1, inplace=True)"
      ],
      "metadata": {
        "id": "HJZGWrlKnC2g"
      },
      "execution_count": null,
      "outputs": []
    },
    {
      "cell_type": "markdown",
      "source": [
        "Se observan las columnas de tipo 'object' para proceder a realizar transformaciones a la columnas o eliminación de estas según sea el caso."
      ],
      "metadata": {
        "id": "INeHbwQnnw67"
      }
    },
    {
      "cell_type": "code",
      "source": [
        "data.select_dtypes(\"object\").columns"
      ],
      "metadata": {
        "colab": {
          "base_uri": "https://localhost:8080/"
        },
        "id": "5KMz-w3Tk-mU",
        "outputId": "17929f19-9b6e-460a-d295-87a1e7e7677f"
      },
      "execution_count": null,
      "outputs": [
        {
          "output_type": "execute_result",
          "data": {
            "text/plain": [
              "Index(['term', 'sub_grade', 'home_ownership', 'verification_status', 'issue_d',\n",
              "       'loan_status', 'pymnt_plan', 'purpose', 'initial_list_status'],\n",
              "      dtype='object')"
            ]
          },
          "metadata": {},
          "execution_count": 15
        }
      ]
    },
    {
      "cell_type": "markdown",
      "source": [
        "Se realizan las transformaciones de los tipos de las columnas y eliminaciones necesarias."
      ],
      "metadata": {
        "id": "LbZoQoPmncGd"
      }
    },
    {
      "cell_type": "code",
      "source": [
        "data['issue_d'] = data.issue_d.apply(fix_date)\n",
        "data['issue_d'] = pd.to_datetime(data['issue_d'], format=\"%m-%Y\")\n",
        "data['issue_d_Y'] = pd.to_datetime(data['issue_d']).dt.year\n",
        "data.drop(['issue_d'], axis=1, inplace=True)"
      ],
      "metadata": {
        "id": "88zBRGpbnbIh"
      },
      "execution_count": null,
      "outputs": []
    },
    {
      "cell_type": "code",
      "source": [
        "term_values = {' 36 months': 36, ' 60 months': 60}\n",
        "data['term'] = data.term.map(term_values)"
      ],
      "metadata": {
        "id": "de5-F9O7n-3A"
      },
      "execution_count": null,
      "outputs": []
    },
    {
      "cell_type": "markdown",
      "source": [
        "Se crean los dummies a partir de las variables 'sub_grade','home_ownership','verification_status','pymnt_plan','purpose','initial_list_status' para su posterior utilización en los modelos."
      ],
      "metadata": {
        "id": "u2xFwlL6pAx-"
      }
    },
    {
      "cell_type": "code",
      "source": [
        "dummies = ['sub_grade','home_ownership','verification_status','pymnt_plan','purpose','initial_list_status']\n",
        "data = pd.get_dummies(data, columns=dummies, drop_first=True)"
      ],
      "metadata": {
        "id": "sYclofQMo_qi"
      },
      "execution_count": null,
      "outputs": []
    },
    {
      "cell_type": "markdown",
      "source": [
        "Se muestran las columnas que contienen valores nulos (NaN) y cuales son sus valores con el fin de revisar cuales columnas eliminar en caso de ser necesario."
      ],
      "metadata": {
        "id": "T1JUoHy4fE27"
      }
    },
    {
      "cell_type": "code",
      "source": [
        "for i in data.columns:\n",
        "  if data[i].isnull().values.any():\n",
        "    print(i,'Los valores estos: ',pd.unique(df[i]),'\\n'*2,\n",
        "          'Cantidad de datos unicos en la columna: ',len(df[i].unique()),'\\n'*2)"
      ],
      "metadata": {
        "colab": {
          "base_uri": "https://localhost:8080/"
        },
        "id": "pUEUFpZFrAs_",
        "outputId": "a291db11-d1b9-41d7-99a7-98376808c4f2"
      },
      "execution_count": null,
      "outputs": [
        {
          "output_type": "stream",
          "name": "stdout",
          "text": [
            "annual_inc Los valores estos:  [ 24000.  30000.  12252. ... 284481. 113926.  72787.] \n",
            "\n",
            " Cantidad de datos unicos en la columna:  31902 \n",
            "\n",
            "\n",
            "delinq_2yrs Los valores estos:  [ 0.  2.  3.  1.  4.  6.  5.  8.  7.  9. 11. nan 13. 15. 10. 12. 17. 18.\n",
            " 29. 24. 14. 21. 22. 19. 16.] \n",
            "\n",
            " Cantidad de datos unicos en la columna:  25 \n",
            "\n",
            "\n",
            "inq_last_6mths Los valores estos:  [ 1.  5.  2.  0.  3.  4.  6.  7.  8.  9. 10. 11. 12. 15. 14. 33. 17. 32.\n",
            " 24. 13. 18. 16. 31. 28. 25. 27. 20. 19. nan] \n",
            "\n",
            " Cantidad de datos unicos en la columna:  29 \n",
            "\n",
            "\n",
            "mths_since_last_delinq Los valores estos:  [ nan  35.  38.  61.   8.  20.  18.  68.  45.  48.  41.  40.  74.  25.\n",
            "  53.  39.  10.  26.  56.  77.  28.  52.  24.  16.  60.  54.  23.   9.\n",
            "  11.  13.  65.  19.  80.  22.  59.  79.  44.  64.  57.  14.  63.  49.\n",
            "  15.  73.  70.  29.  51.   5.  75.  55.   2.  30.  47.  33.  69.   4.\n",
            "  43.  21.  27.  46.  81.  78.  82.  31.  76.  62.  72.  42.  50.   3.\n",
            "  12.  67.  36.  34.  58.  17.  71.  66.  32.   6.  37.   7.   1.  83.\n",
            "  86. 115.  96. 103. 120. 106.  89. 107.  85.  97.  95.   0. 110.  84.\n",
            " 135.  88.  87. 122.  91. 146. 134. 114.  99.  93. 127. 101.  94. 102.\n",
            " 129. 113. 139. 131. 156. 143. 109. 119. 149. 118. 130. 148. 126.  90.\n",
            " 141. 116. 100. 152.  98.  92. 108. 133. 104. 111. 105. 170. 124. 136.\n",
            " 180. 188. 140. 151. 159. 121.] \n",
            "\n",
            " Cantidad de datos unicos en la columna:  146 \n",
            "\n",
            "\n",
            "mths_since_last_record Los valores estos:  [ nan 113. 105.  97.  33.  93.  52.  85.  90.  91. 114.  92. 117.  87.\n",
            "  45.  83. 118.  38. 101. 100. 112. 110.  88.  79.  77. 107. 102.  98.\n",
            "  95. 103.  96. 116. 111.  89. 108.  29. 106. 115.  53.  86.  57.  63.\n",
            "  94. 109.  99. 104.  76.  61.  28.  23.  75.  47.  82.  21.  62.  44.\n",
            "  80.  67. 119.  42.  34.  66.  58.  22.  56.  72.  64.  50.  69.  49.\n",
            "  74.  35.  12.  26.  78.  54.  37.  73.  11.  31.  59.  32.  81.  68.\n",
            "  55.  39.  51.  70.  30.  41.  71.  40.  43.  27.  65.  46.  19.  17.\n",
            "  25.  13.  48.  36.   7.  60.  14.   6.  18.   0.  20. 120. 129.   5.\n",
            "  24.  15.  84.  10.  16.   8.   9.   3. 121.   4.   1.   2.] \n",
            "\n",
            " Cantidad de datos unicos en la columna:  124 \n",
            "\n",
            "\n",
            "open_acc Los valores estos:  [ 3.  2. 10. 15.  9.  7.  4. 11. 14. 12. 20.  8.  6. 17.  5. 13. 16. 30.\n",
            " 21. 18. 19. 27. 23. 34. 25. 22. 24. 26. 32. 28. 29. 33. 31. 39. 35. 36.\n",
            " 38. 44. 41. 42.  1. 46. 37. 47. nan 40. 45. 49. 53. 51. 43.  0. 62. 48.\n",
            " 50. 52. 54. 76. 58. 55. 84. 75. 61.] \n",
            "\n",
            " Cantidad de datos unicos en la columna:  63 \n",
            "\n",
            "\n",
            "pub_rec Los valores estos:  [ 0.  1.  2.  3.  4.  5. nan  6.  9.  8.  7. 11. 49. 10. 54. 12. 18. 19.\n",
            " 16. 15. 14. 40. 63. 13. 21. 34. 17.] \n",
            "\n",
            " Cantidad de datos unicos en la columna:  27 \n",
            "\n",
            "\n",
            "revol_util Los valores estos:  [ 83.7   9.4  98.5 ... 111.3 113.  141.8] \n",
            "\n",
            " Cantidad de datos unicos en la columna:  1270 \n",
            "\n",
            "\n",
            "total_acc Los valores estos:  [  9.   4.  10.  37.  38.  12.  11.  13.   3.  23.  34.  29.  28.  42.\n",
            "  14.  22.  21.  17.   7.  31.  44.  26.  16.   6.  18.  27.  24.  25.\n",
            "  40.  35.   8.  20.  15.  19.  36.  51.  32.  30.  33.  46.   5.  61.\n",
            "  56.  50.  41.  39.  79.  62.  43.  47.  53.  45.  60.  55.  52.  58.\n",
            "  54.  57.  49.  63.  48.  59.  77.  87.  75.  72.  64.  67.  78.  76.\n",
            "  74.  66.  81.  90.  80.  71.  69.  73.  70.  68.  65.   2.   1.  nan\n",
            " 105.  83.  84.  98.  88.  82.  91.  99.  86.  93.  92.  96. 101. 150.\n",
            "  95.  85. 156.  89. 106.  97. 119. 124. 100.  94. 121. 102. 117. 116.\n",
            " 118.] \n",
            "\n",
            " Cantidad de datos unicos en la columna:  113 \n",
            "\n",
            "\n",
            "collections_12_mths_ex_med Los valores estos:  [ 0. nan  1.  2.  4.  3.  6. 16. 20.  5.] \n",
            "\n",
            " Cantidad de datos unicos en la columna:  10 \n",
            "\n",
            "\n",
            "mths_since_last_major_derog Los valores estos:  [ nan  53.  34.  54.  69.   7.  16.  71.  33.  59.  45.   8.  56.  11.\n",
            "  50.  47.  64.  32.  62.  39.  70.  76.  49.  68.  46.  74.  60.  77.\n",
            "  43.  51.  52.  48.  58.  10.  72.  19.  27.  22.  23.  40.  57.  35.\n",
            "  61.  73.  30.  18.  25.  63.  44.  28.  21.  41.  31.  80.  67.  65.\n",
            "  13.  26.  75.  15.  12.  14.  81.   5.  29.   6.  38.  37.  42.   4.\n",
            "  17.   9.  24.  94. 138.  66.  79.  20.  36. 110.   1.  84.  55.  78.\n",
            "   2.   3.  82. 100. 111. 102.  93. 135. 152.  95.  92. 115.  86.  88.\n",
            " 123. 106.  83.  87.  85. 122.  89.   0. 109.  91. 146. 134. 114.  99.\n",
            "  97.  96.  90. 165. 127. 119. 101. 124. 129. 113. 120. 139. 131. 112.\n",
            " 156. 143. 149. 118. 130. 104. 148. 126. 141. 116. 133. 137. 108. 169.\n",
            "  98. 103. 105. 125. 128. 142. 117. 132. 154. 121. 107. 147. 144. 151.\n",
            " 140. 136. 162. 170. 180. 188. 150. 159. 145.] \n",
            "\n",
            " Cantidad de datos unicos en la columna:  163 \n",
            "\n",
            "\n",
            "acc_now_delinq Los valores estos:  [ 0.  1. nan  2.  3.  5.  4.] \n",
            "\n",
            " Cantidad de datos unicos en la columna:  7 \n",
            "\n",
            "\n",
            "tot_coll_amt Los valores estos:  [   nan     0. 15386. ... 16125.  9778.  6532.] \n",
            "\n",
            " Cantidad de datos unicos en la columna:  6322 \n",
            "\n",
            "\n",
            "tot_cur_bal Los valores estos:  [    nan 114834.  14123. ... 294998. 591610.  57477.] \n",
            "\n",
            " Cantidad de datos unicos en la columna:  220691 \n",
            "\n",
            "\n",
            "total_rev_hi_lim Los valores estos:  [    nan  59900.  15100. ... 102342.  71491. 479500.] \n",
            "\n",
            " Cantidad de datos unicos en la columna:  14613 \n",
            "\n",
            "\n",
            "earliest_cr_line_Y Los valores estos:  [1985. 1999. 2001. 1996. 2004. 2005. 2007. 1998. 1989. 2003. 1991. 1993.\n",
            " 1997. 1983. 2002. 1984. 2006. 1987. 1981. 2000. 1994. 1995. 1992. 1986.\n",
            " 1990. 1988. 1980. 2008. 1973. 1979. 1982. 1978. 1971. 1972. 1970. 1969.\n",
            " 1975. 1976. 1977. 1962. 1968. 1974. 1964. 1967. 1965. 1963. 1954. 1966.\n",
            " 1959. 1956. 1946. 1950. 1961.   nan 2010. 2009. 1960. 1957. 1953. 1955.\n",
            " 1951. 1958. 2011. 1949. 1944. 1948.] \n",
            "\n",
            " Cantidad de datos unicos en la columna:  66 \n",
            "\n",
            "\n",
            "last_pymnt_d_Y Los valores estos:  [2015. 2013. 2014. 2016. 2012.   nan 2011. 2010. 2009. 2008. 2007.] \n",
            "\n",
            " Cantidad de datos unicos en la columna:  11 \n",
            "\n",
            "\n",
            "next_pymnt_d_Y Los valores estos:  [  nan 2016. 2013. 2014. 2012. 2011. 2015. 2010. 2009. 2008. 2007.] \n",
            "\n",
            " Cantidad de datos unicos en la columna:  11 \n",
            "\n",
            "\n",
            "last_credit_pull_d_Y Los valores estos:  [2016. 2013. 2015. 2014. 2012. 2011. 2010.   nan 2007. 2009. 2008.] \n",
            "\n",
            " Cantidad de datos unicos en la columna:  11 \n",
            "\n",
            "\n"
          ]
        }
      ]
    },
    {
      "cell_type": "markdown",
      "source": [
        "Se muestran los porcentajes de valores faltantes de las columnas con el fin de revisar cuales columnas eliminar en caso de ser necesario."
      ],
      "metadata": {
        "id": "DYyrteasrNyc"
      }
    },
    {
      "cell_type": "code",
      "source": [
        "#Se revisa el % de valores faltante en cada una de las variables a analizar\n",
        "for column in data.columns:\n",
        "    if data[column].isna().sum() != 0:\n",
        "        missing = data[column].isna().sum()\n",
        "        portion = (missing / data.shape[0]) * 100\n",
        "        print(f\"'{column}': number of missing values '{missing}' ==> '{portion:.3f}%'\")"
      ],
      "metadata": {
        "colab": {
          "base_uri": "https://localhost:8080/"
        },
        "id": "oWPqnkAQfV-A",
        "outputId": "49b3fcd3-e61b-481d-a729-6c5f14c44ca3"
      },
      "execution_count": null,
      "outputs": [
        {
          "output_type": "stream",
          "name": "stdout",
          "text": [
            "'annual_inc': number of missing values '4' ==> '0.001%'\n",
            "'delinq_2yrs': number of missing values '29' ==> '0.006%'\n",
            "'inq_last_6mths': number of missing values '29' ==> '0.006%'\n",
            "'mths_since_last_delinq': number of missing values '250351' ==> '53.691%'\n",
            "'mths_since_last_record': number of missing values '403647' ==> '86.567%'\n",
            "'open_acc': number of missing values '29' ==> '0.006%'\n",
            "'pub_rec': number of missing values '29' ==> '0.006%'\n",
            "'revol_util': number of missing values '340' ==> '0.073%'\n",
            "'total_acc': number of missing values '29' ==> '0.006%'\n",
            "'collections_12_mths_ex_med': number of missing values '145' ==> '0.031%'\n",
            "'mths_since_last_major_derog': number of missing values '367311' ==> '78.774%'\n",
            "'acc_now_delinq': number of missing values '29' ==> '0.006%'\n",
            "'tot_coll_amt': number of missing values '70276' ==> '15.071%'\n",
            "'tot_cur_bal': number of missing values '70276' ==> '15.071%'\n",
            "'total_rev_hi_lim': number of missing values '70276' ==> '15.071%'\n",
            "'earliest_cr_line_Y': number of missing values '29' ==> '0.006%'\n",
            "'last_pymnt_d_Y': number of missing values '376' ==> '0.081%'\n",
            "'next_pymnt_d_Y': number of missing values '227214' ==> '48.729%'\n",
            "'last_credit_pull_d_Y': number of missing values '42' ==> '0.009%'\n"
          ]
        }
      ]
    },
    {
      "cell_type": "code",
      "source": [
        "data.drop(['next_pymnt_d_Y','mths_since_last_major_derog','total_rev_hi_lim','mths_since_last_record','mths_since_last_delinq'], axis=1,inplace=True)"
      ],
      "metadata": {
        "id": "GniZSX1rqro8"
      },
      "execution_count": null,
      "outputs": []
    },
    {
      "cell_type": "markdown",
      "source": [
        "Se llenan los valores nulos (NaN) de las columnas: 'tot_coll_amt' y 'tot_cur_bal' con la media debido a que su porcentaje no es tan alto como para eliminar la columna ni tan bajo para borrar las filas que tienen el valor nulo."
      ],
      "metadata": {
        "id": "1kbP-XEjsFLb"
      }
    },
    {
      "cell_type": "code",
      "source": [
        "data['tot_coll_amt'].fillna((data['tot_coll_amt'].mean()), inplace=True)\n",
        "data['tot_cur_bal'].fillna((data['tot_cur_bal'].mean()), inplace=True)"
      ],
      "metadata": {
        "id": "DIKQGwb1rhm3"
      },
      "execution_count": null,
      "outputs": []
    },
    {
      "cell_type": "markdown",
      "source": [
        "Se eliminan las filas que contienen valores nulos (NaN) ya que su porcentaje de valores faltantes es pequeño."
      ],
      "metadata": {
        "id": "McSS5QKHseMm"
      }
    },
    {
      "cell_type": "code",
      "source": [
        "data.dropna(inplace=True)"
      ],
      "metadata": {
        "id": "1dCn17wesZgS"
      },
      "execution_count": null,
      "outputs": []
    },
    {
      "cell_type": "markdown",
      "source": [
        "Se tranforma la variables 'loan_status' para que sea una variable binaria ya que con esta se realizará la predicción."
      ],
      "metadata": {
        "id": "JMmOkG-Vt1Fn"
      }
    },
    {
      "cell_type": "code",
      "source": [
        "data['loan_status'] = [1 if ((status == \"Default\") or (status == \"Late (31-120 days)\")) else 0 for status in data['loan_status']]"
      ],
      "metadata": {
        "id": "GO2GteHNt1fE"
      },
      "execution_count": null,
      "outputs": []
    },
    {
      "cell_type": "code",
      "source": [
        "data.select_dtypes('int').columns"
      ],
      "metadata": {
        "colab": {
          "base_uri": "https://localhost:8080/"
        },
        "id": "_vPaUImOxKMp",
        "outputId": "f60d094d-2502-4ae9-e2f6-a643aecd1815"
      },
      "execution_count": null,
      "outputs": [
        {
          "output_type": "execute_result",
          "data": {
            "text/plain": [
              "Index(['loan_amnt', 'funded_amnt', 'term', 'emp_length', 'loan_status',\n",
              "       'revol_bal', 'policy_code', 'issue_d_Y'],\n",
              "      dtype='object')"
            ]
          },
          "metadata": {},
          "execution_count": 25
        }
      ]
    },
    {
      "cell_type": "markdown",
      "source": [
        "A continuación se observa una muestra del conjunto de datos con el preprocesamiento realizado."
      ],
      "metadata": {
        "id": "zUiWdX4Wspug"
      }
    },
    {
      "cell_type": "code",
      "source": [
        "data.head()"
      ],
      "metadata": {
        "colab": {
          "base_uri": "https://localhost:8080/",
          "height": 300
        },
        "id": "BdWouay9spUV",
        "outputId": "8f430368-96cc-4bbd-ba7f-c1995a3fef04"
      },
      "execution_count": null,
      "outputs": [
        {
          "output_type": "execute_result",
          "data": {
            "text/plain": [
              "   loan_amnt  funded_amnt  funded_amnt_inv  term  int_rate  installment  \\\n",
              "0       5000         5000           4975.0    36     10.65       162.87   \n",
              "1       2500         2500           2500.0    60     15.27        59.83   \n",
              "2       2400         2400           2400.0    36     15.96        84.33   \n",
              "3      10000        10000          10000.0    36     13.49       339.31   \n",
              "4       3000         3000           3000.0    60     12.69        67.79   \n",
              "\n",
              "   emp_length  annual_inc  loan_status    dti  ...  purpose_house  \\\n",
              "0          10     24000.0            0  27.65  ...              0   \n",
              "1           0     30000.0            0   1.00  ...              0   \n",
              "2          10     12252.0            0   8.72  ...              0   \n",
              "3          10     49200.0            0  20.00  ...              0   \n",
              "4           1     80000.0            0  17.94  ...              0   \n",
              "\n",
              "   purpose_major_purchase  purpose_medical  purpose_moving  purpose_other  \\\n",
              "0                       0                0               0              0   \n",
              "1                       0                0               0              0   \n",
              "2                       0                0               0              0   \n",
              "3                       0                0               0              1   \n",
              "4                       0                0               0              1   \n",
              "\n",
              "   purpose_renewable_energy  purpose_small_business  purpose_vacation  \\\n",
              "0                         0                       0                 0   \n",
              "1                         0                       0                 0   \n",
              "2                         0                       1                 0   \n",
              "3                         0                       0                 0   \n",
              "4                         0                       0                 0   \n",
              "\n",
              "   purpose_wedding  initial_list_status_w  \n",
              "0                0                      0  \n",
              "1                0                      0  \n",
              "2                0                      0  \n",
              "3                0                      0  \n",
              "4                0                      0  \n",
              "\n",
              "[5 rows x 92 columns]"
            ],
            "text/html": [
              "\n",
              "  <div id=\"df-77b24dd3-ce76-4531-9e59-9567bf4a86ca\">\n",
              "    <div class=\"colab-df-container\">\n",
              "      <div>\n",
              "<style scoped>\n",
              "    .dataframe tbody tr th:only-of-type {\n",
              "        vertical-align: middle;\n",
              "    }\n",
              "\n",
              "    .dataframe tbody tr th {\n",
              "        vertical-align: top;\n",
              "    }\n",
              "\n",
              "    .dataframe thead th {\n",
              "        text-align: right;\n",
              "    }\n",
              "</style>\n",
              "<table border=\"1\" class=\"dataframe\">\n",
              "  <thead>\n",
              "    <tr style=\"text-align: right;\">\n",
              "      <th></th>\n",
              "      <th>loan_amnt</th>\n",
              "      <th>funded_amnt</th>\n",
              "      <th>funded_amnt_inv</th>\n",
              "      <th>term</th>\n",
              "      <th>int_rate</th>\n",
              "      <th>installment</th>\n",
              "      <th>emp_length</th>\n",
              "      <th>annual_inc</th>\n",
              "      <th>loan_status</th>\n",
              "      <th>dti</th>\n",
              "      <th>...</th>\n",
              "      <th>purpose_house</th>\n",
              "      <th>purpose_major_purchase</th>\n",
              "      <th>purpose_medical</th>\n",
              "      <th>purpose_moving</th>\n",
              "      <th>purpose_other</th>\n",
              "      <th>purpose_renewable_energy</th>\n",
              "      <th>purpose_small_business</th>\n",
              "      <th>purpose_vacation</th>\n",
              "      <th>purpose_wedding</th>\n",
              "      <th>initial_list_status_w</th>\n",
              "    </tr>\n",
              "  </thead>\n",
              "  <tbody>\n",
              "    <tr>\n",
              "      <th>0</th>\n",
              "      <td>5000</td>\n",
              "      <td>5000</td>\n",
              "      <td>4975.0</td>\n",
              "      <td>36</td>\n",
              "      <td>10.65</td>\n",
              "      <td>162.87</td>\n",
              "      <td>10</td>\n",
              "      <td>24000.0</td>\n",
              "      <td>0</td>\n",
              "      <td>27.65</td>\n",
              "      <td>...</td>\n",
              "      <td>0</td>\n",
              "      <td>0</td>\n",
              "      <td>0</td>\n",
              "      <td>0</td>\n",
              "      <td>0</td>\n",
              "      <td>0</td>\n",
              "      <td>0</td>\n",
              "      <td>0</td>\n",
              "      <td>0</td>\n",
              "      <td>0</td>\n",
              "    </tr>\n",
              "    <tr>\n",
              "      <th>1</th>\n",
              "      <td>2500</td>\n",
              "      <td>2500</td>\n",
              "      <td>2500.0</td>\n",
              "      <td>60</td>\n",
              "      <td>15.27</td>\n",
              "      <td>59.83</td>\n",
              "      <td>0</td>\n",
              "      <td>30000.0</td>\n",
              "      <td>0</td>\n",
              "      <td>1.00</td>\n",
              "      <td>...</td>\n",
              "      <td>0</td>\n",
              "      <td>0</td>\n",
              "      <td>0</td>\n",
              "      <td>0</td>\n",
              "      <td>0</td>\n",
              "      <td>0</td>\n",
              "      <td>0</td>\n",
              "      <td>0</td>\n",
              "      <td>0</td>\n",
              "      <td>0</td>\n",
              "    </tr>\n",
              "    <tr>\n",
              "      <th>2</th>\n",
              "      <td>2400</td>\n",
              "      <td>2400</td>\n",
              "      <td>2400.0</td>\n",
              "      <td>36</td>\n",
              "      <td>15.96</td>\n",
              "      <td>84.33</td>\n",
              "      <td>10</td>\n",
              "      <td>12252.0</td>\n",
              "      <td>0</td>\n",
              "      <td>8.72</td>\n",
              "      <td>...</td>\n",
              "      <td>0</td>\n",
              "      <td>0</td>\n",
              "      <td>0</td>\n",
              "      <td>0</td>\n",
              "      <td>0</td>\n",
              "      <td>0</td>\n",
              "      <td>1</td>\n",
              "      <td>0</td>\n",
              "      <td>0</td>\n",
              "      <td>0</td>\n",
              "    </tr>\n",
              "    <tr>\n",
              "      <th>3</th>\n",
              "      <td>10000</td>\n",
              "      <td>10000</td>\n",
              "      <td>10000.0</td>\n",
              "      <td>36</td>\n",
              "      <td>13.49</td>\n",
              "      <td>339.31</td>\n",
              "      <td>10</td>\n",
              "      <td>49200.0</td>\n",
              "      <td>0</td>\n",
              "      <td>20.00</td>\n",
              "      <td>...</td>\n",
              "      <td>0</td>\n",
              "      <td>0</td>\n",
              "      <td>0</td>\n",
              "      <td>0</td>\n",
              "      <td>1</td>\n",
              "      <td>0</td>\n",
              "      <td>0</td>\n",
              "      <td>0</td>\n",
              "      <td>0</td>\n",
              "      <td>0</td>\n",
              "    </tr>\n",
              "    <tr>\n",
              "      <th>4</th>\n",
              "      <td>3000</td>\n",
              "      <td>3000</td>\n",
              "      <td>3000.0</td>\n",
              "      <td>60</td>\n",
              "      <td>12.69</td>\n",
              "      <td>67.79</td>\n",
              "      <td>1</td>\n",
              "      <td>80000.0</td>\n",
              "      <td>0</td>\n",
              "      <td>17.94</td>\n",
              "      <td>...</td>\n",
              "      <td>0</td>\n",
              "      <td>0</td>\n",
              "      <td>0</td>\n",
              "      <td>0</td>\n",
              "      <td>1</td>\n",
              "      <td>0</td>\n",
              "      <td>0</td>\n",
              "      <td>0</td>\n",
              "      <td>0</td>\n",
              "      <td>0</td>\n",
              "    </tr>\n",
              "  </tbody>\n",
              "</table>\n",
              "<p>5 rows × 92 columns</p>\n",
              "</div>\n",
              "      <button class=\"colab-df-convert\" onclick=\"convertToInteractive('df-77b24dd3-ce76-4531-9e59-9567bf4a86ca')\"\n",
              "              title=\"Convert this dataframe to an interactive table.\"\n",
              "              style=\"display:none;\">\n",
              "        \n",
              "  <svg xmlns=\"http://www.w3.org/2000/svg\" height=\"24px\"viewBox=\"0 0 24 24\"\n",
              "       width=\"24px\">\n",
              "    <path d=\"M0 0h24v24H0V0z\" fill=\"none\"/>\n",
              "    <path d=\"M18.56 5.44l.94 2.06.94-2.06 2.06-.94-2.06-.94-.94-2.06-.94 2.06-2.06.94zm-11 1L8.5 8.5l.94-2.06 2.06-.94-2.06-.94L8.5 2.5l-.94 2.06-2.06.94zm10 10l.94 2.06.94-2.06 2.06-.94-2.06-.94-.94-2.06-.94 2.06-2.06.94z\"/><path d=\"M17.41 7.96l-1.37-1.37c-.4-.4-.92-.59-1.43-.59-.52 0-1.04.2-1.43.59L10.3 9.45l-7.72 7.72c-.78.78-.78 2.05 0 2.83L4 21.41c.39.39.9.59 1.41.59.51 0 1.02-.2 1.41-.59l7.78-7.78 2.81-2.81c.8-.78.8-2.07 0-2.86zM5.41 20L4 18.59l7.72-7.72 1.47 1.35L5.41 20z\"/>\n",
              "  </svg>\n",
              "      </button>\n",
              "      \n",
              "  <style>\n",
              "    .colab-df-container {\n",
              "      display:flex;\n",
              "      flex-wrap:wrap;\n",
              "      gap: 12px;\n",
              "    }\n",
              "\n",
              "    .colab-df-convert {\n",
              "      background-color: #E8F0FE;\n",
              "      border: none;\n",
              "      border-radius: 50%;\n",
              "      cursor: pointer;\n",
              "      display: none;\n",
              "      fill: #1967D2;\n",
              "      height: 32px;\n",
              "      padding: 0 0 0 0;\n",
              "      width: 32px;\n",
              "    }\n",
              "\n",
              "    .colab-df-convert:hover {\n",
              "      background-color: #E2EBFA;\n",
              "      box-shadow: 0px 1px 2px rgba(60, 64, 67, 0.3), 0px 1px 3px 1px rgba(60, 64, 67, 0.15);\n",
              "      fill: #174EA6;\n",
              "    }\n",
              "\n",
              "    [theme=dark] .colab-df-convert {\n",
              "      background-color: #3B4455;\n",
              "      fill: #D2E3FC;\n",
              "    }\n",
              "\n",
              "    [theme=dark] .colab-df-convert:hover {\n",
              "      background-color: #434B5C;\n",
              "      box-shadow: 0px 1px 3px 1px rgba(0, 0, 0, 0.15);\n",
              "      filter: drop-shadow(0px 1px 2px rgba(0, 0, 0, 0.3));\n",
              "      fill: #FFFFFF;\n",
              "    }\n",
              "  </style>\n",
              "\n",
              "      <script>\n",
              "        const buttonEl =\n",
              "          document.querySelector('#df-77b24dd3-ce76-4531-9e59-9567bf4a86ca button.colab-df-convert');\n",
              "        buttonEl.style.display =\n",
              "          google.colab.kernel.accessAllowed ? 'block' : 'none';\n",
              "\n",
              "        async function convertToInteractive(key) {\n",
              "          const element = document.querySelector('#df-77b24dd3-ce76-4531-9e59-9567bf4a86ca');\n",
              "          const dataTable =\n",
              "            await google.colab.kernel.invokeFunction('convertToInteractive',\n",
              "                                                     [key], {});\n",
              "          if (!dataTable) return;\n",
              "\n",
              "          const docLinkHtml = 'Like what you see? Visit the ' +\n",
              "            '<a target=\"_blank\" href=https://colab.research.google.com/notebooks/data_table.ipynb>data table notebook</a>'\n",
              "            + ' to learn more about interactive tables.';\n",
              "          element.innerHTML = '';\n",
              "          dataTable['output_type'] = 'display_data';\n",
              "          await google.colab.output.renderOutput(dataTable, element);\n",
              "          const docLink = document.createElement('div');\n",
              "          docLink.innerHTML = docLinkHtml;\n",
              "          element.appendChild(docLink);\n",
              "        }\n",
              "      </script>\n",
              "    </div>\n",
              "  </div>\n",
              "  "
            ]
          },
          "metadata": {},
          "execution_count": 26
        }
      ]
    },
    {
      "cell_type": "markdown",
      "source": [
        "##Selección de características para ambos modelos"
      ],
      "metadata": {
        "id": "KPZ64iFIvHcq"
      }
    },
    {
      "cell_type": "markdown",
      "source": [
        "Previo a la realización de los modelos se revisó la correlación de las variables con la variable 'loan_status' (variable a predecir) con la intención de realizar la selección de características; sin embargo, al haber poca correlación entre las variables y la variable 'loan_status' se descartó este método para realizar la selección de características."
      ],
      "metadata": {
        "id": "6AZN9q_MvKBS"
      }
    },
    {
      "cell_type": "code",
      "source": [
        "correlations = data.corr()\n",
        "correlations['loan_status'].sort_values(ascending=False)"
      ],
      "metadata": {
        "colab": {
          "base_uri": "https://localhost:8080/"
        },
        "id": "GqmY5EbHvihF",
        "outputId": "2ca47c76-2efc-4190-9069-f602bd323fd1"
      },
      "execution_count": null,
      "outputs": [
        {
          "output_type": "execute_result",
          "data": {
            "text/plain": [
              "loan_status           1.000000\n",
              "out_prncp             0.116107\n",
              "out_prncp_inv         0.116106\n",
              "total_rec_late_fee    0.095745\n",
              "int_rate              0.063779\n",
              "                        ...   \n",
              "total_pymnt_inv      -0.042538\n",
              "total_pymnt          -0.043473\n",
              "last_pymnt_amnt      -0.061365\n",
              "total_rec_prncp      -0.063752\n",
              "policy_code                NaN\n",
              "Name: loan_status, Length: 92, dtype: float64"
            ]
          },
          "metadata": {},
          "execution_count": 27
        }
      ]
    },
    {
      "cell_type": "markdown",
      "source": [
        "##Modelo de predicción de riesgo de crédito utilizando Redes Neuronales\n"
      ],
      "metadata": {
        "id": "A-pbgeOqdnoG"
      }
    },
    {
      "cell_type": "markdown",
      "source": [
        "Se realiza un modelo utilziando redes neuronales para realizar la predicción de riesgo de crédito basado en el modelo presentado en: https://www.kaggle.com/code/faressayah/lending-club-loan-defaulters-prediction/notebook "
      ],
      "metadata": {
        "id": "UM4YXXIeNU2O"
      }
    },
    {
      "cell_type": "markdown",
      "source": [
        "###Selección de características"
      ],
      "metadata": {
        "id": "LZQQ9CAQ1yFs"
      }
    },
    {
      "cell_type": "markdown",
      "source": [
        "Para este modelo de realizó una selección de características más granular debido a que para el uso del modelo de red neuronal el tener pocas características podría ser perjudicial a la hora de realizar el proceso de entrenamiento, ya que podría causar que las capaz ocultas realicen inferencias demasiado simplificadas de la realidad. Por lo cual se usaron todas las variables que contiene el conjunto de datos después de realizado el preprocesamiento.\n",
        "\n"
      ],
      "metadata": {
        "id": "V3XxIZke2Tns"
      }
    },
    {
      "cell_type": "markdown",
      "source": [
        "###Separación del conjunto de datos"
      ],
      "metadata": {
        "id": "tCx8wtKl16Ty"
      }
    },
    {
      "cell_type": "markdown",
      "source": [
        "Se separa el conjunto de datos en los conjuntos de entrenamiento y validación.\n",
        "\n"
      ],
      "metadata": {
        "id": "EKOZO_4YyiRj"
      }
    },
    {
      "cell_type": "code",
      "source": [
        "trainNN, testNN = train_test_split(data, test_size=0.33, random_state=42)\n",
        "\n",
        "print(trainNN.shape)\n",
        "print(testNN.shape)"
      ],
      "metadata": {
        "colab": {
          "base_uri": "https://localhost:8080/"
        },
        "id": "2mQTgXdtyY0W",
        "outputId": "f642f6c7-86c5-41a1-a1a8-7427997a44ca"
      },
      "execution_count": null,
      "outputs": [
        {
          "output_type": "stream",
          "name": "stdout",
          "text": [
            "(311832, 92)\n",
            "(153590, 92)\n"
          ]
        }
      ]
    },
    {
      "cell_type": "code",
      "source": [
        "X_trainNN, y_trainNN = trainNN.drop('loan_status', axis=1), trainNN.loan_status\n",
        "X_testNN, y_testNN = testNN.drop('loan_status', axis=1), testNN.loan_status"
      ],
      "metadata": {
        "id": "7DXe6Y_kyyld"
      },
      "execution_count": null,
      "outputs": []
    },
    {
      "cell_type": "markdown",
      "source": [
        "###Normalización de los datos"
      ],
      "metadata": {
        "id": "mHBAcizm1-cP"
      }
    },
    {
      "cell_type": "markdown",
      "source": [
        "Seguidamente normalizan los datos."
      ],
      "metadata": {
        "id": "p0B-2DbMzD5_"
      }
    },
    {
      "cell_type": "code",
      "source": [
        "scaler = MinMaxScaler()\n",
        "X_trainNN = scaler.fit_transform(X_trainNN)\n",
        "X_testNN = scaler.transform(X_testNN)"
      ],
      "metadata": {
        "id": "6fiJ0f7my8s_"
      },
      "execution_count": null,
      "outputs": []
    },
    {
      "cell_type": "code",
      "source": [
        "X_trainNN = np.array(X_trainNN).astype(np.float32)\n",
        "X_testNN = np.array(X_testNN).astype(np.float32)\n",
        "y_trainNN = np.array(y_trainNN).astype(np.float32)\n",
        "y_testNN = np.array(y_testNN).astype(np.float32)"
      ],
      "metadata": {
        "id": "KhoAShAxzI0j"
      },
      "execution_count": null,
      "outputs": []
    },
    {
      "cell_type": "markdown",
      "source": [
        "###Entrenamiento del modelo"
      ],
      "metadata": {
        "id": "361HFe-v2Dkk"
      }
    },
    {
      "cell_type": "markdown",
      "source": [
        "Se utilizan los métodos para entrenar el modelo de redes neuronales."
      ],
      "metadata": {
        "id": "EDF1_dbhzpU3"
      }
    },
    {
      "cell_type": "code",
      "source": [
        "def evaluate_nn(true, pred, train=True):\n",
        "    if train:\n",
        "        clf_report = pd.DataFrame(classification_report(true, pred, output_dict=True))\n",
        "        print(\"Train Result:\\n================================================\")\n",
        "        print(f\"Accuracy Score: {accuracy_score(true, pred) * 100:.2f}%\")\n",
        "        print(\"_______________________________________________\")\n",
        "        print(f\"CLASSIFICATION REPORT:\\n{clf_report}\")\n",
        "        print(\"_______________________________________________\")\n",
        "        \n",
        "    elif train==False:\n",
        "        clf_report = pd.DataFrame(classification_report(true, pred, output_dict=True))\n",
        "        print(\"Test Result:\\n================================================\")        \n",
        "        print(f\"Accuracy Score: {accuracy_score(true, pred) * 100:.2f}%\")\n",
        "        print(\"_______________________________________________\")\n",
        "        print(f\"CLASSIFICATION REPORT:\\n{clf_report}\")\n",
        "        print(\"_______________________________________________\")\n",
        "\n",
        "def nn_model(num_columns, num_labels, hidden_units, dropout_rates, learning_rate):\n",
        "    inp = tf.keras.layers.Input(shape=(num_columns, ))\n",
        "    x = BatchNormalization()(inp)\n",
        "    x = Dropout(dropout_rates[0])(x)\n",
        "    for i in range(len(hidden_units)):\n",
        "        x = Dense(hidden_units[i], activation='relu')(x)\n",
        "        x = BatchNormalization()(x)\n",
        "        x = Dropout(dropout_rates[i + 1])(x)\n",
        "    x = Dense(num_labels, activation='sigmoid')(x)\n",
        "  \n",
        "    model = Model(inputs=inp, outputs=x)\n",
        "    model.compile(optimizer=Adam(learning_rate), loss='binary_crossentropy', metrics=[AUC(name='AUC')])\n",
        "    return model"
      ],
      "metadata": {
        "id": "v3p4oQDOzhIQ"
      },
      "execution_count": null,
      "outputs": []
    },
    {
      "cell_type": "code",
      "source": [
        "num_columns = X_trainNN.shape[1]\n",
        "num_labels = 1\n",
        "hidden_units = [150, 150, 150]\n",
        "dropout_rates = [0.1, 0, 0.1, 0]\n",
        "learning_rate = 1e-3\n",
        "\n",
        "\n",
        "model = nn_model(\n",
        "    num_columns=num_columns, \n",
        "    num_labels=num_labels,\n",
        "    hidden_units=hidden_units,\n",
        "    dropout_rates=dropout_rates,\n",
        "    learning_rate=learning_rate\n",
        ")"
      ],
      "metadata": {
        "id": "Txbl_rrf0Aav"
      },
      "execution_count": null,
      "outputs": []
    },
    {
      "cell_type": "code",
      "source": [
        "r = model.fit(\n",
        "    X_trainNN, y_trainNN,\n",
        "    validation_data=(X_testNN, y_testNN),\n",
        "    epochs=20,\n",
        "    batch_size=32\n",
        ")"
      ],
      "metadata": {
        "colab": {
          "base_uri": "https://localhost:8080/"
        },
        "id": "4jzHewOb0Enr",
        "outputId": "a26d2398-e12f-4de5-e8b8-3918e2829e90"
      },
      "execution_count": null,
      "outputs": [
        {
          "output_type": "stream",
          "name": "stdout",
          "text": [
            "Epoch 1/20\n",
            "WARNING:tensorflow:AutoGraph could not transform <function Model.make_train_function.<locals>.train_function at 0x7f19fa5528c0> and will run it as-is.\n",
            "Please report this to the TensorFlow team. When filing the bug, set the verbosity to 10 (on Linux, `export AUTOGRAPH_VERBOSITY=10`) and attach the full output.\n",
            "Cause: closure mismatch, requested ('self', 'step_function'), but source function had ()\n",
            "To silence this warning, decorate the function with @tf.autograph.experimental.do_not_convert\n",
            "WARNING: AutoGraph could not transform <function Model.make_train_function.<locals>.train_function at 0x7f19fa5528c0> and will run it as-is.\n",
            "Please report this to the TensorFlow team. When filing the bug, set the verbosity to 10 (on Linux, `export AUTOGRAPH_VERBOSITY=10`) and attach the full output.\n",
            "Cause: closure mismatch, requested ('self', 'step_function'), but source function had ()\n",
            "To silence this warning, decorate the function with @tf.autograph.experimental.do_not_convert\n",
            "9742/9745 [============================>.] - ETA: 0s - loss: 0.0683 - AUC: 0.8801WARNING:tensorflow:AutoGraph could not transform <function Model.make_test_function.<locals>.test_function at 0x7f1a2bdb9560> and will run it as-is.\n",
            "Please report this to the TensorFlow team. When filing the bug, set the verbosity to 10 (on Linux, `export AUTOGRAPH_VERBOSITY=10`) and attach the full output.\n",
            "Cause: closure mismatch, requested ('self', 'step_function'), but source function had ()\n",
            "To silence this warning, decorate the function with @tf.autograph.experimental.do_not_convert\n",
            "WARNING: AutoGraph could not transform <function Model.make_test_function.<locals>.test_function at 0x7f1a2bdb9560> and will run it as-is.\n",
            "Please report this to the TensorFlow team. When filing the bug, set the verbosity to 10 (on Linux, `export AUTOGRAPH_VERBOSITY=10`) and attach the full output.\n",
            "Cause: closure mismatch, requested ('self', 'step_function'), but source function had ()\n",
            "To silence this warning, decorate the function with @tf.autograph.experimental.do_not_convert\n",
            "9745/9745 [==============================] - 113s 11ms/step - loss: 0.0683 - AUC: 0.8801 - val_loss: 0.0551 - val_AUC: 0.9355\n",
            "Epoch 2/20\n",
            "9745/9745 [==============================] - 103s 11ms/step - loss: 0.0560 - AUC: 0.9238 - val_loss: 0.0536 - val_AUC: 0.9373\n",
            "Epoch 3/20\n",
            "9745/9745 [==============================] - 80s 8ms/step - loss: 0.0550 - AUC: 0.9274 - val_loss: 0.0509 - val_AUC: 0.9448\n",
            "Epoch 4/20\n",
            "9745/9745 [==============================] - 101s 10ms/step - loss: 0.0542 - AUC: 0.9283 - val_loss: 0.0519 - val_AUC: 0.9450\n",
            "Epoch 5/20\n",
            "9745/9745 [==============================] - 88s 9ms/step - loss: 0.0537 - AUC: 0.9312 - val_loss: 0.0504 - val_AUC: 0.9476\n",
            "Epoch 6/20\n",
            "9745/9745 [==============================] - 82s 8ms/step - loss: 0.0532 - AUC: 0.9311 - val_loss: 0.0499 - val_AUC: 0.9402\n",
            "Epoch 7/20\n",
            "9745/9745 [==============================] - 70s 7ms/step - loss: 0.0530 - AUC: 0.9329 - val_loss: 0.0495 - val_AUC: 0.9470\n",
            "Epoch 8/20\n",
            "9745/9745 [==============================] - 85s 9ms/step - loss: 0.0530 - AUC: 0.9318 - val_loss: 0.0494 - val_AUC: 0.9497\n",
            "Epoch 9/20\n",
            "9745/9745 [==============================] - 85s 9ms/step - loss: 0.0526 - AUC: 0.9341 - val_loss: 0.0494 - val_AUC: 0.9468\n",
            "Epoch 10/20\n",
            "9745/9745 [==============================] - 91s 9ms/step - loss: 0.0526 - AUC: 0.9340 - val_loss: 0.0501 - val_AUC: 0.9499\n",
            "Epoch 11/20\n",
            "9745/9745 [==============================] - 96s 10ms/step - loss: 0.0524 - AUC: 0.9345 - val_loss: 0.0507 - val_AUC: 0.9417\n",
            "Epoch 12/20\n",
            "9745/9745 [==============================] - 91s 9ms/step - loss: 0.0524 - AUC: 0.9346 - val_loss: 0.0508 - val_AUC: 0.9424\n",
            "Epoch 13/20\n",
            "9745/9745 [==============================] - 97s 10ms/step - loss: 0.0521 - AUC: 0.9359 - val_loss: 0.0504 - val_AUC: 0.9454\n",
            "Epoch 14/20\n",
            "9745/9745 [==============================] - 89s 9ms/step - loss: 0.0520 - AUC: 0.9359 - val_loss: 0.0501 - val_AUC: 0.9463\n",
            "Epoch 15/20\n",
            "9745/9745 [==============================] - 71s 7ms/step - loss: 0.0518 - AUC: 0.9371 - val_loss: 0.0521 - val_AUC: 0.9401\n",
            "Epoch 16/20\n",
            "9745/9745 [==============================] - 72s 7ms/step - loss: 0.0517 - AUC: 0.9366 - val_loss: 0.0522 - val_AUC: 0.9391\n",
            "Epoch 17/20\n",
            "9745/9745 [==============================] - 97s 10ms/step - loss: 0.0517 - AUC: 0.9375 - val_loss: 0.0528 - val_AUC: 0.9393\n",
            "Epoch 18/20\n",
            "9745/9745 [==============================] - 89s 9ms/step - loss: 0.0517 - AUC: 0.9358 - val_loss: 0.0513 - val_AUC: 0.9425\n",
            "Epoch 19/20\n",
            "9745/9745 [==============================] - 84s 9ms/step - loss: 0.0514 - AUC: 0.9374 - val_loss: 0.0515 - val_AUC: 0.9456\n",
            "Epoch 20/20\n",
            "9745/9745 [==============================] - 63s 6ms/step - loss: 0.0513 - AUC: 0.9391 - val_loss: 0.0509 - val_AUC: 0.9338\n"
          ]
        }
      ]
    },
    {
      "cell_type": "markdown",
      "source": [
        "Se realiza la predicción de la variable 'loan_status'."
      ],
      "metadata": {
        "id": "jrlnyHdf0xhw"
      }
    },
    {
      "cell_type": "code",
      "source": [
        "y_trainNN_pred = model.predict(X_trainNN) "
      ],
      "metadata": {
        "colab": {
          "base_uri": "https://localhost:8080/"
        },
        "id": "9HpFg2ss0jDR",
        "outputId": "2e10f01d-d13a-472d-b22d-9360e393b971"
      },
      "execution_count": null,
      "outputs": [
        {
          "output_type": "stream",
          "name": "stdout",
          "text": [
            "WARNING:tensorflow:AutoGraph could not transform <function Model.make_predict_function.<locals>.predict_function at 0x7f19fddd7ef0> and will run it as-is.\n",
            "Please report this to the TensorFlow team. When filing the bug, set the verbosity to 10 (on Linux, `export AUTOGRAPH_VERBOSITY=10`) and attach the full output.\n",
            "Cause: Unknown node type <gast.gast.Expr object at 0x7f19fde7d450>\n",
            "To silence this warning, decorate the function with @tf.autograph.experimental.do_not_convert\n",
            "WARNING: AutoGraph could not transform <function Model.make_predict_function.<locals>.predict_function at 0x7f19fddd7ef0> and will run it as-is.\n",
            "Please report this to the TensorFlow team. When filing the bug, set the verbosity to 10 (on Linux, `export AUTOGRAPH_VERBOSITY=10`) and attach the full output.\n",
            "Cause: Unknown node type <gast.gast.Expr object at 0x7f19fde7d450>\n",
            "To silence this warning, decorate the function with @tf.autograph.experimental.do_not_convert\n"
          ]
        }
      ]
    },
    {
      "cell_type": "code",
      "source": [
        "y_testNN_pred = model.predict(X_testNN)"
      ],
      "metadata": {
        "id": "wjEz_l7E5vAz"
      },
      "execution_count": null,
      "outputs": []
    },
    {
      "cell_type": "markdown",
      "source": [
        "###Evaluación del modelo"
      ],
      "metadata": {
        "id": "dlS6zdt22JQh"
      }
    },
    {
      "cell_type": "markdown",
      "source": [
        "A continuación se presentan las métricas obtenidas con el modelo de redes neuronales.\n",
        "\n"
      ],
      "metadata": {
        "id": "J_Hs1HdL04BI"
      }
    },
    {
      "cell_type": "code",
      "source": [
        "evaluate_nn(y_trainNN, y_trainNN_pred.round(), train=True)"
      ],
      "metadata": {
        "colab": {
          "base_uri": "https://localhost:8080/"
        },
        "id": "7a7cx2Wx09wV",
        "outputId": "88f2d90b-a703-4ce1-bd64-ba17f570ed16"
      },
      "execution_count": null,
      "outputs": [
        {
          "output_type": "stream",
          "name": "stdout",
          "text": [
            "Train Result:\n",
            "================================================\n",
            "Accuracy Score: 98.42%\n",
            "_______________________________________________\n",
            "CLASSIFICATION REPORT:\n",
            "                     0.0          1.0  accuracy      macro avg   weighted avg\n",
            "precision       0.984380     0.825858  0.984187       0.905119       0.981747\n",
            "recall          0.999785     0.060448  0.984187       0.530116       0.984187\n",
            "f1-score        0.992022     0.112651  0.984187       0.552337       0.977420\n",
            "support    306654.000000  5178.000000  0.984187  311832.000000  311832.000000\n",
            "_______________________________________________\n"
          ]
        }
      ]
    },
    {
      "cell_type": "code",
      "source": [
        "evaluate_nn(y_testNN, y_testNN_pred.round(), train=False)"
      ],
      "metadata": {
        "colab": {
          "base_uri": "https://localhost:8080/"
        },
        "id": "15dnQ9CC5ykS",
        "outputId": "64d58097-cd17-4532-cb75-6913d6a13131"
      },
      "execution_count": null,
      "outputs": [
        {
          "output_type": "stream",
          "name": "stdout",
          "text": [
            "Test Result:\n",
            "================================================\n",
            "Accuracy Score: 98.39%\n",
            "_______________________________________________\n",
            "CLASSIFICATION REPORT:\n",
            "                     0.0          1.0  accuracy      macro avg   weighted avg\n",
            "precision       0.984155     0.728395  0.983886       0.856275       0.979911\n",
            "recall          0.999709     0.046293  0.983886       0.523001       0.983886\n",
            "f1-score        0.991871     0.087053  0.983886       0.539462       0.976855\n",
            "support    151041.000000  2549.000000  0.983886  153590.000000  153590.000000\n",
            "_______________________________________________\n"
          ]
        }
      ]
    },
    {
      "cell_type": "markdown",
      "source": [
        "###Exportación del modelo"
      ],
      "metadata": {
        "id": "PrWuSVwh2Lr_"
      }
    },
    {
      "cell_type": "markdown",
      "source": [
        "Se exporta el modelo para poder ser usado en producción."
      ],
      "metadata": {
        "id": "JkjHR8te1JRl"
      }
    },
    {
      "cell_type": "code",
      "source": [
        "import joblib\n",
        "joblib_model_file = \"modelNN.pkl\"\n",
        "joblib.dump(model, joblib_model_file)"
      ],
      "metadata": {
        "colab": {
          "base_uri": "https://localhost:8080/"
        },
        "id": "gwzC8wXr1IhP",
        "outputId": "67fc86e9-0fc2-41e3-fd60-52ba9248a1bb"
      },
      "execution_count": null,
      "outputs": [
        {
          "output_type": "stream",
          "name": "stdout",
          "text": [
            "WARNING:tensorflow:AutoGraph could not transform <function canonicalize_signatures.<locals>.signature_wrapper at 0x7f19fdc4c680> and will run it as-is.\n",
            "Please report this to the TensorFlow team. When filing the bug, set the verbosity to 10 (on Linux, `export AUTOGRAPH_VERBOSITY=10`) and attach the full output.\n",
            "Cause: closure mismatch, requested ('signature_function', 'signature_key'), but source function had ()\n",
            "To silence this warning, decorate the function with @tf.autograph.experimental.do_not_convert\n",
            "WARNING: AutoGraph could not transform <function canonicalize_signatures.<locals>.signature_wrapper at 0x7f19fdc4c680> and will run it as-is.\n",
            "Please report this to the TensorFlow team. When filing the bug, set the verbosity to 10 (on Linux, `export AUTOGRAPH_VERBOSITY=10`) and attach the full output.\n",
            "Cause: closure mismatch, requested ('signature_function', 'signature_key'), but source function had ()\n",
            "To silence this warning, decorate the function with @tf.autograph.experimental.do_not_convert\n",
            "INFO:tensorflow:Assets written to: ram://06377a19-d7fb-4608-bb36-e06149316540/assets\n"
          ]
        },
        {
          "output_type": "execute_result",
          "data": {
            "text/plain": [
              "['modelNN.pkl']"
            ]
          },
          "metadata": {},
          "execution_count": 45
        }
      ]
    },
    {
      "cell_type": "markdown",
      "source": [
        "Se verifica que el modelo haya sido exportado correctamente."
      ],
      "metadata": {
        "id": "u_SVnxhH1bVI"
      }
    },
    {
      "cell_type": "code",
      "source": [
        "#Calculate the accuracy and predictions of the exported model\n",
        "#to verify the model was exported correctly\n",
        "joblib_model = joblib.load(joblib_model_file)\n",
        "\n",
        "y_trainNN_pred = joblib_model.predict(X_trainNN)\n",
        "evaluate_nn(y_trainNN, y_trainNN_pred.round(), train=True)\n",
        "\n",
        "y_testNN_pred = joblib_model.predict(X_testNN)\n",
        "evaluate_nn(y_testNN, y_testNN_pred.round(), train=False)"
      ],
      "metadata": {
        "colab": {
          "base_uri": "https://localhost:8080/"
        },
        "id": "pk7AaNSX1X1y",
        "outputId": "eea75b72-51cc-4f22-8313-2d3b9f0b805f"
      },
      "execution_count": null,
      "outputs": [
        {
          "output_type": "stream",
          "name": "stdout",
          "text": [
            "WARNING:tensorflow:AutoGraph could not transform <function Model.make_predict_function.<locals>.predict_function at 0x7f19fd6eb710> and will run it as-is.\n",
            "Please report this to the TensorFlow team. When filing the bug, set the verbosity to 10 (on Linux, `export AUTOGRAPH_VERBOSITY=10`) and attach the full output.\n",
            "Cause: Unknown node type <gast.gast.Expr object at 0x7f19fcb461d0>\n",
            "To silence this warning, decorate the function with @tf.autograph.experimental.do_not_convert\n",
            "WARNING: AutoGraph could not transform <function Model.make_predict_function.<locals>.predict_function at 0x7f19fd6eb710> and will run it as-is.\n",
            "Please report this to the TensorFlow team. When filing the bug, set the verbosity to 10 (on Linux, `export AUTOGRAPH_VERBOSITY=10`) and attach the full output.\n",
            "Cause: Unknown node type <gast.gast.Expr object at 0x7f19fcb461d0>\n",
            "To silence this warning, decorate the function with @tf.autograph.experimental.do_not_convert\n",
            "Train Result:\n",
            "================================================\n",
            "Accuracy Score: 98.42%\n",
            "_______________________________________________\n",
            "CLASSIFICATION REPORT:\n",
            "                     0.0          1.0  accuracy      macro avg   weighted avg\n",
            "precision       0.984380     0.825858  0.984187       0.905119       0.981747\n",
            "recall          0.999785     0.060448  0.984187       0.530116       0.984187\n",
            "f1-score        0.992022     0.112651  0.984187       0.552337       0.977420\n",
            "support    306654.000000  5178.000000  0.984187  311832.000000  311832.000000\n",
            "_______________________________________________\n",
            "Test Result:\n",
            "================================================\n",
            "Accuracy Score: 98.39%\n",
            "_______________________________________________\n",
            "CLASSIFICATION REPORT:\n",
            "                     0.0          1.0  accuracy      macro avg   weighted avg\n",
            "precision       0.984155     0.728395  0.983886       0.856275       0.979911\n",
            "recall          0.999709     0.046293  0.983886       0.523001       0.983886\n",
            "f1-score        0.991871     0.087053  0.983886       0.539462       0.976855\n",
            "support    151041.000000  2549.000000  0.983886  153590.000000  153590.000000\n",
            "_______________________________________________\n"
          ]
        }
      ]
    },
    {
      "cell_type": "markdown",
      "source": [
        "##Modelo de predicción de riesgo de crédito utilizando Regresión Logística"
      ],
      "metadata": {
        "id": "GGMffx3Qd5vl"
      }
    },
    {
      "cell_type": "markdown",
      "source": [
        "###Separación del conjunto de datos"
      ],
      "metadata": {
        "id": "bH7Lia8925Id"
      }
    },
    {
      "cell_type": "markdown",
      "source": [
        "Se separa el conjunto de datos en los conjuntos de entrenamiento y validación.\n"
      ],
      "metadata": {
        "id": "cKtPHPgZOinj"
      }
    },
    {
      "cell_type": "code",
      "source": [
        "trainLR, testLR = train_test_split(data, test_size=0.33, random_state=43)\n",
        "\n",
        "print(trainLR.shape)\n",
        "print(testLR.shape)"
      ],
      "metadata": {
        "colab": {
          "base_uri": "https://localhost:8080/"
        },
        "id": "L-lmLI7a1pJh",
        "outputId": "350d4bdd-a76e-4c64-c7e8-f30ef2403581"
      },
      "execution_count": null,
      "outputs": [
        {
          "output_type": "stream",
          "name": "stdout",
          "text": [
            "(311832, 92)\n",
            "(153590, 92)\n"
          ]
        }
      ]
    },
    {
      "cell_type": "code",
      "source": [
        "X_trainLR, y_trainLR = trainLR.drop('loan_status', axis=1), trainLR.loan_status\n",
        "X_testLR, y_testLR = testLR.drop('loan_status', axis=1), testLR.loan_status"
      ],
      "metadata": {
        "id": "5Hs0MC-z3Uzb"
      },
      "execution_count": null,
      "outputs": []
    },
    {
      "cell_type": "markdown",
      "source": [
        "###Selección de características "
      ],
      "metadata": {
        "id": "0IP73HZn2zu6"
      }
    },
    {
      "cell_type": "markdown",
      "source": [
        "Se utiliza el método RFE para realizar la selección de características debido a que su objetivo es seleccionar características considerando de forma recursiva conjuntos de características cada vez más pequeños."
      ],
      "metadata": {
        "id": "VIyIOsloO7G1"
      }
    },
    {
      "cell_type": "code",
      "source": [
        "logreg = LogisticRegression()\n",
        "rfe = RFE(logreg, n_features_to_select=10)\n",
        "rfe = rfe.fit(X_trainLR, y_trainLR.values.ravel())\n",
        "print(rfe.support_)\n",
        "print(rfe.ranking_)"
      ],
      "metadata": {
        "colab": {
          "base_uri": "https://localhost:8080/"
        },
        "id": "qm_hm8iW3gP_",
        "outputId": "6514b7a7-e318-41e6-c6f1-917d2456a09d"
      },
      "execution_count": null,
      "outputs": [
        {
          "output_type": "stream",
          "name": "stderr",
          "text": [
            "/usr/local/lib/python3.7/dist-packages/sklearn/linear_model/_logistic.py:818: ConvergenceWarning: lbfgs failed to converge (status=1):\n",
            "STOP: TOTAL NO. of ITERATIONS REACHED LIMIT.\n",
            "\n",
            "Increase the number of iterations (max_iter) or scale the data as shown in:\n",
            "    https://scikit-learn.org/stable/modules/preprocessing.html\n",
            "Please also refer to the documentation for alternative solver options:\n",
            "    https://scikit-learn.org/stable/modules/linear_model.html#logistic-regression\n",
            "  extra_warning_msg=_LOGISTIC_SOLVER_CONVERGENCE_MSG,\n",
            "/usr/local/lib/python3.7/dist-packages/sklearn/linear_model/_logistic.py:818: ConvergenceWarning: lbfgs failed to converge (status=1):\n",
            "STOP: TOTAL NO. of ITERATIONS REACHED LIMIT.\n",
            "\n",
            "Increase the number of iterations (max_iter) or scale the data as shown in:\n",
            "    https://scikit-learn.org/stable/modules/preprocessing.html\n",
            "Please also refer to the documentation for alternative solver options:\n",
            "    https://scikit-learn.org/stable/modules/linear_model.html#logistic-regression\n",
            "  extra_warning_msg=_LOGISTIC_SOLVER_CONVERGENCE_MSG,\n",
            "/usr/local/lib/python3.7/dist-packages/sklearn/linear_model/_logistic.py:818: ConvergenceWarning: lbfgs failed to converge (status=1):\n",
            "STOP: TOTAL NO. of ITERATIONS REACHED LIMIT.\n",
            "\n",
            "Increase the number of iterations (max_iter) or scale the data as shown in:\n",
            "    https://scikit-learn.org/stable/modules/preprocessing.html\n",
            "Please also refer to the documentation for alternative solver options:\n",
            "    https://scikit-learn.org/stable/modules/linear_model.html#logistic-regression\n",
            "  extra_warning_msg=_LOGISTIC_SOLVER_CONVERGENCE_MSG,\n",
            "/usr/local/lib/python3.7/dist-packages/sklearn/linear_model/_logistic.py:818: ConvergenceWarning: lbfgs failed to converge (status=1):\n",
            "STOP: TOTAL NO. of ITERATIONS REACHED LIMIT.\n",
            "\n",
            "Increase the number of iterations (max_iter) or scale the data as shown in:\n",
            "    https://scikit-learn.org/stable/modules/preprocessing.html\n",
            "Please also refer to the documentation for alternative solver options:\n",
            "    https://scikit-learn.org/stable/modules/linear_model.html#logistic-regression\n",
            "  extra_warning_msg=_LOGISTIC_SOLVER_CONVERGENCE_MSG,\n",
            "/usr/local/lib/python3.7/dist-packages/sklearn/linear_model/_logistic.py:818: ConvergenceWarning: lbfgs failed to converge (status=1):\n",
            "STOP: TOTAL NO. of ITERATIONS REACHED LIMIT.\n",
            "\n",
            "Increase the number of iterations (max_iter) or scale the data as shown in:\n",
            "    https://scikit-learn.org/stable/modules/preprocessing.html\n",
            "Please also refer to the documentation for alternative solver options:\n",
            "    https://scikit-learn.org/stable/modules/linear_model.html#logistic-regression\n",
            "  extra_warning_msg=_LOGISTIC_SOLVER_CONVERGENCE_MSG,\n",
            "/usr/local/lib/python3.7/dist-packages/sklearn/linear_model/_logistic.py:818: ConvergenceWarning: lbfgs failed to converge (status=1):\n",
            "STOP: TOTAL NO. of ITERATIONS REACHED LIMIT.\n",
            "\n",
            "Increase the number of iterations (max_iter) or scale the data as shown in:\n",
            "    https://scikit-learn.org/stable/modules/preprocessing.html\n",
            "Please also refer to the documentation for alternative solver options:\n",
            "    https://scikit-learn.org/stable/modules/linear_model.html#logistic-regression\n",
            "  extra_warning_msg=_LOGISTIC_SOLVER_CONVERGENCE_MSG,\n",
            "/usr/local/lib/python3.7/dist-packages/sklearn/linear_model/_logistic.py:818: ConvergenceWarning: lbfgs failed to converge (status=1):\n",
            "STOP: TOTAL NO. of ITERATIONS REACHED LIMIT.\n",
            "\n",
            "Increase the number of iterations (max_iter) or scale the data as shown in:\n",
            "    https://scikit-learn.org/stable/modules/preprocessing.html\n",
            "Please also refer to the documentation for alternative solver options:\n",
            "    https://scikit-learn.org/stable/modules/linear_model.html#logistic-regression\n",
            "  extra_warning_msg=_LOGISTIC_SOLVER_CONVERGENCE_MSG,\n",
            "/usr/local/lib/python3.7/dist-packages/sklearn/linear_model/_logistic.py:818: ConvergenceWarning: lbfgs failed to converge (status=1):\n",
            "STOP: TOTAL NO. of ITERATIONS REACHED LIMIT.\n",
            "\n",
            "Increase the number of iterations (max_iter) or scale the data as shown in:\n",
            "    https://scikit-learn.org/stable/modules/preprocessing.html\n",
            "Please also refer to the documentation for alternative solver options:\n",
            "    https://scikit-learn.org/stable/modules/linear_model.html#logistic-regression\n",
            "  extra_warning_msg=_LOGISTIC_SOLVER_CONVERGENCE_MSG,\n",
            "/usr/local/lib/python3.7/dist-packages/sklearn/linear_model/_logistic.py:818: ConvergenceWarning: lbfgs failed to converge (status=1):\n",
            "STOP: TOTAL NO. of ITERATIONS REACHED LIMIT.\n",
            "\n",
            "Increase the number of iterations (max_iter) or scale the data as shown in:\n",
            "    https://scikit-learn.org/stable/modules/preprocessing.html\n",
            "Please also refer to the documentation for alternative solver options:\n",
            "    https://scikit-learn.org/stable/modules/linear_model.html#logistic-regression\n",
            "  extra_warning_msg=_LOGISTIC_SOLVER_CONVERGENCE_MSG,\n",
            "/usr/local/lib/python3.7/dist-packages/sklearn/linear_model/_logistic.py:818: ConvergenceWarning: lbfgs failed to converge (status=1):\n",
            "STOP: TOTAL NO. of ITERATIONS REACHED LIMIT.\n",
            "\n",
            "Increase the number of iterations (max_iter) or scale the data as shown in:\n",
            "    https://scikit-learn.org/stable/modules/preprocessing.html\n",
            "Please also refer to the documentation for alternative solver options:\n",
            "    https://scikit-learn.org/stable/modules/linear_model.html#logistic-regression\n",
            "  extra_warning_msg=_LOGISTIC_SOLVER_CONVERGENCE_MSG,\n",
            "/usr/local/lib/python3.7/dist-packages/sklearn/linear_model/_logistic.py:818: ConvergenceWarning: lbfgs failed to converge (status=1):\n",
            "STOP: TOTAL NO. of ITERATIONS REACHED LIMIT.\n",
            "\n",
            "Increase the number of iterations (max_iter) or scale the data as shown in:\n",
            "    https://scikit-learn.org/stable/modules/preprocessing.html\n",
            "Please also refer to the documentation for alternative solver options:\n",
            "    https://scikit-learn.org/stable/modules/linear_model.html#logistic-regression\n",
            "  extra_warning_msg=_LOGISTIC_SOLVER_CONVERGENCE_MSG,\n",
            "/usr/local/lib/python3.7/dist-packages/sklearn/linear_model/_logistic.py:818: ConvergenceWarning: lbfgs failed to converge (status=1):\n",
            "STOP: TOTAL NO. of ITERATIONS REACHED LIMIT.\n",
            "\n",
            "Increase the number of iterations (max_iter) or scale the data as shown in:\n",
            "    https://scikit-learn.org/stable/modules/preprocessing.html\n",
            "Please also refer to the documentation for alternative solver options:\n",
            "    https://scikit-learn.org/stable/modules/linear_model.html#logistic-regression\n",
            "  extra_warning_msg=_LOGISTIC_SOLVER_CONVERGENCE_MSG,\n",
            "/usr/local/lib/python3.7/dist-packages/sklearn/linear_model/_logistic.py:818: ConvergenceWarning: lbfgs failed to converge (status=1):\n",
            "STOP: TOTAL NO. of ITERATIONS REACHED LIMIT.\n",
            "\n",
            "Increase the number of iterations (max_iter) or scale the data as shown in:\n",
            "    https://scikit-learn.org/stable/modules/preprocessing.html\n",
            "Please also refer to the documentation for alternative solver options:\n",
            "    https://scikit-learn.org/stable/modules/linear_model.html#logistic-regression\n",
            "  extra_warning_msg=_LOGISTIC_SOLVER_CONVERGENCE_MSG,\n",
            "/usr/local/lib/python3.7/dist-packages/sklearn/linear_model/_logistic.py:818: ConvergenceWarning: lbfgs failed to converge (status=1):\n",
            "STOP: TOTAL NO. of ITERATIONS REACHED LIMIT.\n",
            "\n",
            "Increase the number of iterations (max_iter) or scale the data as shown in:\n",
            "    https://scikit-learn.org/stable/modules/preprocessing.html\n",
            "Please also refer to the documentation for alternative solver options:\n",
            "    https://scikit-learn.org/stable/modules/linear_model.html#logistic-regression\n",
            "  extra_warning_msg=_LOGISTIC_SOLVER_CONVERGENCE_MSG,\n",
            "/usr/local/lib/python3.7/dist-packages/sklearn/linear_model/_logistic.py:818: ConvergenceWarning: lbfgs failed to converge (status=1):\n",
            "STOP: TOTAL NO. of ITERATIONS REACHED LIMIT.\n",
            "\n",
            "Increase the number of iterations (max_iter) or scale the data as shown in:\n",
            "    https://scikit-learn.org/stable/modules/preprocessing.html\n",
            "Please also refer to the documentation for alternative solver options:\n",
            "    https://scikit-learn.org/stable/modules/linear_model.html#logistic-regression\n",
            "  extra_warning_msg=_LOGISTIC_SOLVER_CONVERGENCE_MSG,\n",
            "/usr/local/lib/python3.7/dist-packages/sklearn/linear_model/_logistic.py:818: ConvergenceWarning: lbfgs failed to converge (status=1):\n",
            "STOP: TOTAL NO. of ITERATIONS REACHED LIMIT.\n",
            "\n",
            "Increase the number of iterations (max_iter) or scale the data as shown in:\n",
            "    https://scikit-learn.org/stable/modules/preprocessing.html\n",
            "Please also refer to the documentation for alternative solver options:\n",
            "    https://scikit-learn.org/stable/modules/linear_model.html#logistic-regression\n",
            "  extra_warning_msg=_LOGISTIC_SOLVER_CONVERGENCE_MSG,\n",
            "/usr/local/lib/python3.7/dist-packages/sklearn/linear_model/_logistic.py:818: ConvergenceWarning: lbfgs failed to converge (status=1):\n",
            "STOP: TOTAL NO. of ITERATIONS REACHED LIMIT.\n",
            "\n",
            "Increase the number of iterations (max_iter) or scale the data as shown in:\n",
            "    https://scikit-learn.org/stable/modules/preprocessing.html\n",
            "Please also refer to the documentation for alternative solver options:\n",
            "    https://scikit-learn.org/stable/modules/linear_model.html#logistic-regression\n",
            "  extra_warning_msg=_LOGISTIC_SOLVER_CONVERGENCE_MSG,\n",
            "/usr/local/lib/python3.7/dist-packages/sklearn/linear_model/_logistic.py:818: ConvergenceWarning: lbfgs failed to converge (status=1):\n",
            "STOP: TOTAL NO. of ITERATIONS REACHED LIMIT.\n",
            "\n",
            "Increase the number of iterations (max_iter) or scale the data as shown in:\n",
            "    https://scikit-learn.org/stable/modules/preprocessing.html\n",
            "Please also refer to the documentation for alternative solver options:\n",
            "    https://scikit-learn.org/stable/modules/linear_model.html#logistic-regression\n",
            "  extra_warning_msg=_LOGISTIC_SOLVER_CONVERGENCE_MSG,\n",
            "/usr/local/lib/python3.7/dist-packages/sklearn/linear_model/_logistic.py:818: ConvergenceWarning: lbfgs failed to converge (status=1):\n",
            "STOP: TOTAL NO. of ITERATIONS REACHED LIMIT.\n",
            "\n",
            "Increase the number of iterations (max_iter) or scale the data as shown in:\n",
            "    https://scikit-learn.org/stable/modules/preprocessing.html\n",
            "Please also refer to the documentation for alternative solver options:\n",
            "    https://scikit-learn.org/stable/modules/linear_model.html#logistic-regression\n",
            "  extra_warning_msg=_LOGISTIC_SOLVER_CONVERGENCE_MSG,\n",
            "/usr/local/lib/python3.7/dist-packages/sklearn/linear_model/_logistic.py:818: ConvergenceWarning: lbfgs failed to converge (status=1):\n",
            "STOP: TOTAL NO. of ITERATIONS REACHED LIMIT.\n",
            "\n",
            "Increase the number of iterations (max_iter) or scale the data as shown in:\n",
            "    https://scikit-learn.org/stable/modules/preprocessing.html\n",
            "Please also refer to the documentation for alternative solver options:\n",
            "    https://scikit-learn.org/stable/modules/linear_model.html#logistic-regression\n",
            "  extra_warning_msg=_LOGISTIC_SOLVER_CONVERGENCE_MSG,\n",
            "/usr/local/lib/python3.7/dist-packages/sklearn/linear_model/_logistic.py:818: ConvergenceWarning: lbfgs failed to converge (status=1):\n",
            "STOP: TOTAL NO. of ITERATIONS REACHED LIMIT.\n",
            "\n",
            "Increase the number of iterations (max_iter) or scale the data as shown in:\n",
            "    https://scikit-learn.org/stable/modules/preprocessing.html\n",
            "Please also refer to the documentation for alternative solver options:\n",
            "    https://scikit-learn.org/stable/modules/linear_model.html#logistic-regression\n",
            "  extra_warning_msg=_LOGISTIC_SOLVER_CONVERGENCE_MSG,\n",
            "/usr/local/lib/python3.7/dist-packages/sklearn/linear_model/_logistic.py:818: ConvergenceWarning: lbfgs failed to converge (status=1):\n",
            "STOP: TOTAL NO. of ITERATIONS REACHED LIMIT.\n",
            "\n",
            "Increase the number of iterations (max_iter) or scale the data as shown in:\n",
            "    https://scikit-learn.org/stable/modules/preprocessing.html\n",
            "Please also refer to the documentation for alternative solver options:\n",
            "    https://scikit-learn.org/stable/modules/linear_model.html#logistic-regression\n",
            "  extra_warning_msg=_LOGISTIC_SOLVER_CONVERGENCE_MSG,\n",
            "/usr/local/lib/python3.7/dist-packages/sklearn/linear_model/_logistic.py:818: ConvergenceWarning: lbfgs failed to converge (status=1):\n",
            "STOP: TOTAL NO. of ITERATIONS REACHED LIMIT.\n",
            "\n",
            "Increase the number of iterations (max_iter) or scale the data as shown in:\n",
            "    https://scikit-learn.org/stable/modules/preprocessing.html\n",
            "Please also refer to the documentation for alternative solver options:\n",
            "    https://scikit-learn.org/stable/modules/linear_model.html#logistic-regression\n",
            "  extra_warning_msg=_LOGISTIC_SOLVER_CONVERGENCE_MSG,\n",
            "/usr/local/lib/python3.7/dist-packages/sklearn/linear_model/_logistic.py:818: ConvergenceWarning: lbfgs failed to converge (status=1):\n",
            "STOP: TOTAL NO. of ITERATIONS REACHED LIMIT.\n",
            "\n",
            "Increase the number of iterations (max_iter) or scale the data as shown in:\n",
            "    https://scikit-learn.org/stable/modules/preprocessing.html\n",
            "Please also refer to the documentation for alternative solver options:\n",
            "    https://scikit-learn.org/stable/modules/linear_model.html#logistic-regression\n",
            "  extra_warning_msg=_LOGISTIC_SOLVER_CONVERGENCE_MSG,\n",
            "/usr/local/lib/python3.7/dist-packages/sklearn/linear_model/_logistic.py:818: ConvergenceWarning: lbfgs failed to converge (status=1):\n",
            "STOP: TOTAL NO. of ITERATIONS REACHED LIMIT.\n",
            "\n",
            "Increase the number of iterations (max_iter) or scale the data as shown in:\n",
            "    https://scikit-learn.org/stable/modules/preprocessing.html\n",
            "Please also refer to the documentation for alternative solver options:\n",
            "    https://scikit-learn.org/stable/modules/linear_model.html#logistic-regression\n",
            "  extra_warning_msg=_LOGISTIC_SOLVER_CONVERGENCE_MSG,\n",
            "/usr/local/lib/python3.7/dist-packages/sklearn/linear_model/_logistic.py:818: ConvergenceWarning: lbfgs failed to converge (status=1):\n",
            "STOP: TOTAL NO. of ITERATIONS REACHED LIMIT.\n",
            "\n",
            "Increase the number of iterations (max_iter) or scale the data as shown in:\n",
            "    https://scikit-learn.org/stable/modules/preprocessing.html\n",
            "Please also refer to the documentation for alternative solver options:\n",
            "    https://scikit-learn.org/stable/modules/linear_model.html#logistic-regression\n",
            "  extra_warning_msg=_LOGISTIC_SOLVER_CONVERGENCE_MSG,\n",
            "/usr/local/lib/python3.7/dist-packages/sklearn/linear_model/_logistic.py:818: ConvergenceWarning: lbfgs failed to converge (status=1):\n",
            "STOP: TOTAL NO. of ITERATIONS REACHED LIMIT.\n",
            "\n",
            "Increase the number of iterations (max_iter) or scale the data as shown in:\n",
            "    https://scikit-learn.org/stable/modules/preprocessing.html\n",
            "Please also refer to the documentation for alternative solver options:\n",
            "    https://scikit-learn.org/stable/modules/linear_model.html#logistic-regression\n",
            "  extra_warning_msg=_LOGISTIC_SOLVER_CONVERGENCE_MSG,\n",
            "/usr/local/lib/python3.7/dist-packages/sklearn/linear_model/_logistic.py:818: ConvergenceWarning: lbfgs failed to converge (status=1):\n",
            "STOP: TOTAL NO. of ITERATIONS REACHED LIMIT.\n",
            "\n",
            "Increase the number of iterations (max_iter) or scale the data as shown in:\n",
            "    https://scikit-learn.org/stable/modules/preprocessing.html\n",
            "Please also refer to the documentation for alternative solver options:\n",
            "    https://scikit-learn.org/stable/modules/linear_model.html#logistic-regression\n",
            "  extra_warning_msg=_LOGISTIC_SOLVER_CONVERGENCE_MSG,\n",
            "/usr/local/lib/python3.7/dist-packages/sklearn/linear_model/_logistic.py:818: ConvergenceWarning: lbfgs failed to converge (status=1):\n",
            "STOP: TOTAL NO. of ITERATIONS REACHED LIMIT.\n",
            "\n",
            "Increase the number of iterations (max_iter) or scale the data as shown in:\n",
            "    https://scikit-learn.org/stable/modules/preprocessing.html\n",
            "Please also refer to the documentation for alternative solver options:\n",
            "    https://scikit-learn.org/stable/modules/linear_model.html#logistic-regression\n",
            "  extra_warning_msg=_LOGISTIC_SOLVER_CONVERGENCE_MSG,\n",
            "/usr/local/lib/python3.7/dist-packages/sklearn/linear_model/_logistic.py:818: ConvergenceWarning: lbfgs failed to converge (status=1):\n",
            "STOP: TOTAL NO. of ITERATIONS REACHED LIMIT.\n",
            "\n",
            "Increase the number of iterations (max_iter) or scale the data as shown in:\n",
            "    https://scikit-learn.org/stable/modules/preprocessing.html\n",
            "Please also refer to the documentation for alternative solver options:\n",
            "    https://scikit-learn.org/stable/modules/linear_model.html#logistic-regression\n",
            "  extra_warning_msg=_LOGISTIC_SOLVER_CONVERGENCE_MSG,\n",
            "/usr/local/lib/python3.7/dist-packages/sklearn/linear_model/_logistic.py:818: ConvergenceWarning: lbfgs failed to converge (status=1):\n",
            "STOP: TOTAL NO. of ITERATIONS REACHED LIMIT.\n",
            "\n",
            "Increase the number of iterations (max_iter) or scale the data as shown in:\n",
            "    https://scikit-learn.org/stable/modules/preprocessing.html\n",
            "Please also refer to the documentation for alternative solver options:\n",
            "    https://scikit-learn.org/stable/modules/linear_model.html#logistic-regression\n",
            "  extra_warning_msg=_LOGISTIC_SOLVER_CONVERGENCE_MSG,\n",
            "/usr/local/lib/python3.7/dist-packages/sklearn/linear_model/_logistic.py:818: ConvergenceWarning: lbfgs failed to converge (status=1):\n",
            "STOP: TOTAL NO. of ITERATIONS REACHED LIMIT.\n",
            "\n",
            "Increase the number of iterations (max_iter) or scale the data as shown in:\n",
            "    https://scikit-learn.org/stable/modules/preprocessing.html\n",
            "Please also refer to the documentation for alternative solver options:\n",
            "    https://scikit-learn.org/stable/modules/linear_model.html#logistic-regression\n",
            "  extra_warning_msg=_LOGISTIC_SOLVER_CONVERGENCE_MSG,\n",
            "/usr/local/lib/python3.7/dist-packages/sklearn/linear_model/_logistic.py:818: ConvergenceWarning: lbfgs failed to converge (status=1):\n",
            "STOP: TOTAL NO. of ITERATIONS REACHED LIMIT.\n",
            "\n",
            "Increase the number of iterations (max_iter) or scale the data as shown in:\n",
            "    https://scikit-learn.org/stable/modules/preprocessing.html\n",
            "Please also refer to the documentation for alternative solver options:\n",
            "    https://scikit-learn.org/stable/modules/linear_model.html#logistic-regression\n",
            "  extra_warning_msg=_LOGISTIC_SOLVER_CONVERGENCE_MSG,\n",
            "/usr/local/lib/python3.7/dist-packages/sklearn/linear_model/_logistic.py:818: ConvergenceWarning: lbfgs failed to converge (status=1):\n",
            "STOP: TOTAL NO. of ITERATIONS REACHED LIMIT.\n",
            "\n",
            "Increase the number of iterations (max_iter) or scale the data as shown in:\n",
            "    https://scikit-learn.org/stable/modules/preprocessing.html\n",
            "Please also refer to the documentation for alternative solver options:\n",
            "    https://scikit-learn.org/stable/modules/linear_model.html#logistic-regression\n",
            "  extra_warning_msg=_LOGISTIC_SOLVER_CONVERGENCE_MSG,\n",
            "/usr/local/lib/python3.7/dist-packages/sklearn/linear_model/_logistic.py:818: ConvergenceWarning: lbfgs failed to converge (status=1):\n",
            "STOP: TOTAL NO. of ITERATIONS REACHED LIMIT.\n",
            "\n",
            "Increase the number of iterations (max_iter) or scale the data as shown in:\n",
            "    https://scikit-learn.org/stable/modules/preprocessing.html\n",
            "Please also refer to the documentation for alternative solver options:\n",
            "    https://scikit-learn.org/stable/modules/linear_model.html#logistic-regression\n",
            "  extra_warning_msg=_LOGISTIC_SOLVER_CONVERGENCE_MSG,\n",
            "/usr/local/lib/python3.7/dist-packages/sklearn/linear_model/_logistic.py:818: ConvergenceWarning: lbfgs failed to converge (status=1):\n",
            "STOP: TOTAL NO. of ITERATIONS REACHED LIMIT.\n",
            "\n",
            "Increase the number of iterations (max_iter) or scale the data as shown in:\n",
            "    https://scikit-learn.org/stable/modules/preprocessing.html\n",
            "Please also refer to the documentation for alternative solver options:\n",
            "    https://scikit-learn.org/stable/modules/linear_model.html#logistic-regression\n",
            "  extra_warning_msg=_LOGISTIC_SOLVER_CONVERGENCE_MSG,\n",
            "/usr/local/lib/python3.7/dist-packages/sklearn/linear_model/_logistic.py:818: ConvergenceWarning: lbfgs failed to converge (status=1):\n",
            "STOP: TOTAL NO. of ITERATIONS REACHED LIMIT.\n",
            "\n",
            "Increase the number of iterations (max_iter) or scale the data as shown in:\n",
            "    https://scikit-learn.org/stable/modules/preprocessing.html\n",
            "Please also refer to the documentation for alternative solver options:\n",
            "    https://scikit-learn.org/stable/modules/linear_model.html#logistic-regression\n",
            "  extra_warning_msg=_LOGISTIC_SOLVER_CONVERGENCE_MSG,\n",
            "/usr/local/lib/python3.7/dist-packages/sklearn/linear_model/_logistic.py:818: ConvergenceWarning: lbfgs failed to converge (status=1):\n",
            "STOP: TOTAL NO. of ITERATIONS REACHED LIMIT.\n",
            "\n",
            "Increase the number of iterations (max_iter) or scale the data as shown in:\n",
            "    https://scikit-learn.org/stable/modules/preprocessing.html\n",
            "Please also refer to the documentation for alternative solver options:\n",
            "    https://scikit-learn.org/stable/modules/linear_model.html#logistic-regression\n",
            "  extra_warning_msg=_LOGISTIC_SOLVER_CONVERGENCE_MSG,\n",
            "/usr/local/lib/python3.7/dist-packages/sklearn/linear_model/_logistic.py:818: ConvergenceWarning: lbfgs failed to converge (status=1):\n",
            "STOP: TOTAL NO. of ITERATIONS REACHED LIMIT.\n",
            "\n",
            "Increase the number of iterations (max_iter) or scale the data as shown in:\n",
            "    https://scikit-learn.org/stable/modules/preprocessing.html\n",
            "Please also refer to the documentation for alternative solver options:\n",
            "    https://scikit-learn.org/stable/modules/linear_model.html#logistic-regression\n",
            "  extra_warning_msg=_LOGISTIC_SOLVER_CONVERGENCE_MSG,\n",
            "/usr/local/lib/python3.7/dist-packages/sklearn/linear_model/_logistic.py:818: ConvergenceWarning: lbfgs failed to converge (status=1):\n",
            "STOP: TOTAL NO. of ITERATIONS REACHED LIMIT.\n",
            "\n",
            "Increase the number of iterations (max_iter) or scale the data as shown in:\n",
            "    https://scikit-learn.org/stable/modules/preprocessing.html\n",
            "Please also refer to the documentation for alternative solver options:\n",
            "    https://scikit-learn.org/stable/modules/linear_model.html#logistic-regression\n",
            "  extra_warning_msg=_LOGISTIC_SOLVER_CONVERGENCE_MSG,\n",
            "/usr/local/lib/python3.7/dist-packages/sklearn/linear_model/_logistic.py:818: ConvergenceWarning: lbfgs failed to converge (status=1):\n",
            "STOP: TOTAL NO. of ITERATIONS REACHED LIMIT.\n",
            "\n",
            "Increase the number of iterations (max_iter) or scale the data as shown in:\n",
            "    https://scikit-learn.org/stable/modules/preprocessing.html\n",
            "Please also refer to the documentation for alternative solver options:\n",
            "    https://scikit-learn.org/stable/modules/linear_model.html#logistic-regression\n",
            "  extra_warning_msg=_LOGISTIC_SOLVER_CONVERGENCE_MSG,\n",
            "/usr/local/lib/python3.7/dist-packages/sklearn/linear_model/_logistic.py:818: ConvergenceWarning: lbfgs failed to converge (status=1):\n",
            "STOP: TOTAL NO. of ITERATIONS REACHED LIMIT.\n",
            "\n",
            "Increase the number of iterations (max_iter) or scale the data as shown in:\n",
            "    https://scikit-learn.org/stable/modules/preprocessing.html\n",
            "Please also refer to the documentation for alternative solver options:\n",
            "    https://scikit-learn.org/stable/modules/linear_model.html#logistic-regression\n",
            "  extra_warning_msg=_LOGISTIC_SOLVER_CONVERGENCE_MSG,\n",
            "/usr/local/lib/python3.7/dist-packages/sklearn/linear_model/_logistic.py:818: ConvergenceWarning: lbfgs failed to converge (status=1):\n",
            "STOP: TOTAL NO. of ITERATIONS REACHED LIMIT.\n",
            "\n",
            "Increase the number of iterations (max_iter) or scale the data as shown in:\n",
            "    https://scikit-learn.org/stable/modules/preprocessing.html\n",
            "Please also refer to the documentation for alternative solver options:\n",
            "    https://scikit-learn.org/stable/modules/linear_model.html#logistic-regression\n",
            "  extra_warning_msg=_LOGISTIC_SOLVER_CONVERGENCE_MSG,\n",
            "/usr/local/lib/python3.7/dist-packages/sklearn/linear_model/_logistic.py:818: ConvergenceWarning: lbfgs failed to converge (status=1):\n",
            "STOP: TOTAL NO. of ITERATIONS REACHED LIMIT.\n",
            "\n",
            "Increase the number of iterations (max_iter) or scale the data as shown in:\n",
            "    https://scikit-learn.org/stable/modules/preprocessing.html\n",
            "Please also refer to the documentation for alternative solver options:\n",
            "    https://scikit-learn.org/stable/modules/linear_model.html#logistic-regression\n",
            "  extra_warning_msg=_LOGISTIC_SOLVER_CONVERGENCE_MSG,\n",
            "/usr/local/lib/python3.7/dist-packages/sklearn/linear_model/_logistic.py:818: ConvergenceWarning: lbfgs failed to converge (status=1):\n",
            "STOP: TOTAL NO. of ITERATIONS REACHED LIMIT.\n",
            "\n",
            "Increase the number of iterations (max_iter) or scale the data as shown in:\n",
            "    https://scikit-learn.org/stable/modules/preprocessing.html\n",
            "Please also refer to the documentation for alternative solver options:\n",
            "    https://scikit-learn.org/stable/modules/linear_model.html#logistic-regression\n",
            "  extra_warning_msg=_LOGISTIC_SOLVER_CONVERGENCE_MSG,\n",
            "/usr/local/lib/python3.7/dist-packages/sklearn/linear_model/_logistic.py:818: ConvergenceWarning: lbfgs failed to converge (status=1):\n",
            "STOP: TOTAL NO. of ITERATIONS REACHED LIMIT.\n",
            "\n",
            "Increase the number of iterations (max_iter) or scale the data as shown in:\n",
            "    https://scikit-learn.org/stable/modules/preprocessing.html\n",
            "Please also refer to the documentation for alternative solver options:\n",
            "    https://scikit-learn.org/stable/modules/linear_model.html#logistic-regression\n",
            "  extra_warning_msg=_LOGISTIC_SOLVER_CONVERGENCE_MSG,\n",
            "/usr/local/lib/python3.7/dist-packages/sklearn/linear_model/_logistic.py:818: ConvergenceWarning: lbfgs failed to converge (status=1):\n",
            "STOP: TOTAL NO. of ITERATIONS REACHED LIMIT.\n",
            "\n",
            "Increase the number of iterations (max_iter) or scale the data as shown in:\n",
            "    https://scikit-learn.org/stable/modules/preprocessing.html\n",
            "Please also refer to the documentation for alternative solver options:\n",
            "    https://scikit-learn.org/stable/modules/linear_model.html#logistic-regression\n",
            "  extra_warning_msg=_LOGISTIC_SOLVER_CONVERGENCE_MSG,\n",
            "/usr/local/lib/python3.7/dist-packages/sklearn/linear_model/_logistic.py:818: ConvergenceWarning: lbfgs failed to converge (status=1):\n",
            "STOP: TOTAL NO. of ITERATIONS REACHED LIMIT.\n",
            "\n",
            "Increase the number of iterations (max_iter) or scale the data as shown in:\n",
            "    https://scikit-learn.org/stable/modules/preprocessing.html\n",
            "Please also refer to the documentation for alternative solver options:\n",
            "    https://scikit-learn.org/stable/modules/linear_model.html#logistic-regression\n",
            "  extra_warning_msg=_LOGISTIC_SOLVER_CONVERGENCE_MSG,\n",
            "/usr/local/lib/python3.7/dist-packages/sklearn/linear_model/_logistic.py:818: ConvergenceWarning: lbfgs failed to converge (status=1):\n",
            "STOP: TOTAL NO. of ITERATIONS REACHED LIMIT.\n",
            "\n",
            "Increase the number of iterations (max_iter) or scale the data as shown in:\n",
            "    https://scikit-learn.org/stable/modules/preprocessing.html\n",
            "Please also refer to the documentation for alternative solver options:\n",
            "    https://scikit-learn.org/stable/modules/linear_model.html#logistic-regression\n",
            "  extra_warning_msg=_LOGISTIC_SOLVER_CONVERGENCE_MSG,\n",
            "/usr/local/lib/python3.7/dist-packages/sklearn/linear_model/_logistic.py:818: ConvergenceWarning: lbfgs failed to converge (status=1):\n",
            "STOP: TOTAL NO. of ITERATIONS REACHED LIMIT.\n",
            "\n",
            "Increase the number of iterations (max_iter) or scale the data as shown in:\n",
            "    https://scikit-learn.org/stable/modules/preprocessing.html\n",
            "Please also refer to the documentation for alternative solver options:\n",
            "    https://scikit-learn.org/stable/modules/linear_model.html#logistic-regression\n",
            "  extra_warning_msg=_LOGISTIC_SOLVER_CONVERGENCE_MSG,\n",
            "/usr/local/lib/python3.7/dist-packages/sklearn/linear_model/_logistic.py:818: ConvergenceWarning: lbfgs failed to converge (status=1):\n",
            "STOP: TOTAL NO. of ITERATIONS REACHED LIMIT.\n",
            "\n",
            "Increase the number of iterations (max_iter) or scale the data as shown in:\n",
            "    https://scikit-learn.org/stable/modules/preprocessing.html\n",
            "Please also refer to the documentation for alternative solver options:\n",
            "    https://scikit-learn.org/stable/modules/linear_model.html#logistic-regression\n",
            "  extra_warning_msg=_LOGISTIC_SOLVER_CONVERGENCE_MSG,\n",
            "/usr/local/lib/python3.7/dist-packages/sklearn/linear_model/_logistic.py:818: ConvergenceWarning: lbfgs failed to converge (status=1):\n",
            "STOP: TOTAL NO. of ITERATIONS REACHED LIMIT.\n",
            "\n",
            "Increase the number of iterations (max_iter) or scale the data as shown in:\n",
            "    https://scikit-learn.org/stable/modules/preprocessing.html\n",
            "Please also refer to the documentation for alternative solver options:\n",
            "    https://scikit-learn.org/stable/modules/linear_model.html#logistic-regression\n",
            "  extra_warning_msg=_LOGISTIC_SOLVER_CONVERGENCE_MSG,\n",
            "/usr/local/lib/python3.7/dist-packages/sklearn/linear_model/_logistic.py:818: ConvergenceWarning: lbfgs failed to converge (status=1):\n",
            "STOP: TOTAL NO. of ITERATIONS REACHED LIMIT.\n",
            "\n",
            "Increase the number of iterations (max_iter) or scale the data as shown in:\n",
            "    https://scikit-learn.org/stable/modules/preprocessing.html\n",
            "Please also refer to the documentation for alternative solver options:\n",
            "    https://scikit-learn.org/stable/modules/linear_model.html#logistic-regression\n",
            "  extra_warning_msg=_LOGISTIC_SOLVER_CONVERGENCE_MSG,\n",
            "/usr/local/lib/python3.7/dist-packages/sklearn/linear_model/_logistic.py:818: ConvergenceWarning: lbfgs failed to converge (status=1):\n",
            "STOP: TOTAL NO. of ITERATIONS REACHED LIMIT.\n",
            "\n",
            "Increase the number of iterations (max_iter) or scale the data as shown in:\n",
            "    https://scikit-learn.org/stable/modules/preprocessing.html\n",
            "Please also refer to the documentation for alternative solver options:\n",
            "    https://scikit-learn.org/stable/modules/linear_model.html#logistic-regression\n",
            "  extra_warning_msg=_LOGISTIC_SOLVER_CONVERGENCE_MSG,\n",
            "/usr/local/lib/python3.7/dist-packages/sklearn/linear_model/_logistic.py:818: ConvergenceWarning: lbfgs failed to converge (status=1):\n",
            "STOP: TOTAL NO. of ITERATIONS REACHED LIMIT.\n",
            "\n",
            "Increase the number of iterations (max_iter) or scale the data as shown in:\n",
            "    https://scikit-learn.org/stable/modules/preprocessing.html\n",
            "Please also refer to the documentation for alternative solver options:\n",
            "    https://scikit-learn.org/stable/modules/linear_model.html#logistic-regression\n",
            "  extra_warning_msg=_LOGISTIC_SOLVER_CONVERGENCE_MSG,\n",
            "/usr/local/lib/python3.7/dist-packages/sklearn/linear_model/_logistic.py:818: ConvergenceWarning: lbfgs failed to converge (status=1):\n",
            "STOP: TOTAL NO. of ITERATIONS REACHED LIMIT.\n",
            "\n",
            "Increase the number of iterations (max_iter) or scale the data as shown in:\n",
            "    https://scikit-learn.org/stable/modules/preprocessing.html\n",
            "Please also refer to the documentation for alternative solver options:\n",
            "    https://scikit-learn.org/stable/modules/linear_model.html#logistic-regression\n",
            "  extra_warning_msg=_LOGISTIC_SOLVER_CONVERGENCE_MSG,\n",
            "/usr/local/lib/python3.7/dist-packages/sklearn/linear_model/_logistic.py:818: ConvergenceWarning: lbfgs failed to converge (status=1):\n",
            "STOP: TOTAL NO. of ITERATIONS REACHED LIMIT.\n",
            "\n",
            "Increase the number of iterations (max_iter) or scale the data as shown in:\n",
            "    https://scikit-learn.org/stable/modules/preprocessing.html\n",
            "Please also refer to the documentation for alternative solver options:\n",
            "    https://scikit-learn.org/stable/modules/linear_model.html#logistic-regression\n",
            "  extra_warning_msg=_LOGISTIC_SOLVER_CONVERGENCE_MSG,\n",
            "/usr/local/lib/python3.7/dist-packages/sklearn/linear_model/_logistic.py:818: ConvergenceWarning: lbfgs failed to converge (status=1):\n",
            "STOP: TOTAL NO. of ITERATIONS REACHED LIMIT.\n",
            "\n",
            "Increase the number of iterations (max_iter) or scale the data as shown in:\n",
            "    https://scikit-learn.org/stable/modules/preprocessing.html\n",
            "Please also refer to the documentation for alternative solver options:\n",
            "    https://scikit-learn.org/stable/modules/linear_model.html#logistic-regression\n",
            "  extra_warning_msg=_LOGISTIC_SOLVER_CONVERGENCE_MSG,\n",
            "/usr/local/lib/python3.7/dist-packages/sklearn/linear_model/_logistic.py:818: ConvergenceWarning: lbfgs failed to converge (status=1):\n",
            "STOP: TOTAL NO. of ITERATIONS REACHED LIMIT.\n",
            "\n",
            "Increase the number of iterations (max_iter) or scale the data as shown in:\n",
            "    https://scikit-learn.org/stable/modules/preprocessing.html\n",
            "Please also refer to the documentation for alternative solver options:\n",
            "    https://scikit-learn.org/stable/modules/linear_model.html#logistic-regression\n",
            "  extra_warning_msg=_LOGISTIC_SOLVER_CONVERGENCE_MSG,\n",
            "/usr/local/lib/python3.7/dist-packages/sklearn/linear_model/_logistic.py:818: ConvergenceWarning: lbfgs failed to converge (status=1):\n",
            "STOP: TOTAL NO. of ITERATIONS REACHED LIMIT.\n",
            "\n",
            "Increase the number of iterations (max_iter) or scale the data as shown in:\n",
            "    https://scikit-learn.org/stable/modules/preprocessing.html\n",
            "Please also refer to the documentation for alternative solver options:\n",
            "    https://scikit-learn.org/stable/modules/linear_model.html#logistic-regression\n",
            "  extra_warning_msg=_LOGISTIC_SOLVER_CONVERGENCE_MSG,\n",
            "/usr/local/lib/python3.7/dist-packages/sklearn/linear_model/_logistic.py:818: ConvergenceWarning: lbfgs failed to converge (status=1):\n",
            "STOP: TOTAL NO. of ITERATIONS REACHED LIMIT.\n",
            "\n",
            "Increase the number of iterations (max_iter) or scale the data as shown in:\n",
            "    https://scikit-learn.org/stable/modules/preprocessing.html\n",
            "Please also refer to the documentation for alternative solver options:\n",
            "    https://scikit-learn.org/stable/modules/linear_model.html#logistic-regression\n",
            "  extra_warning_msg=_LOGISTIC_SOLVER_CONVERGENCE_MSG,\n",
            "/usr/local/lib/python3.7/dist-packages/sklearn/linear_model/_logistic.py:818: ConvergenceWarning: lbfgs failed to converge (status=1):\n",
            "STOP: TOTAL NO. of ITERATIONS REACHED LIMIT.\n",
            "\n",
            "Increase the number of iterations (max_iter) or scale the data as shown in:\n",
            "    https://scikit-learn.org/stable/modules/preprocessing.html\n",
            "Please also refer to the documentation for alternative solver options:\n",
            "    https://scikit-learn.org/stable/modules/linear_model.html#logistic-regression\n",
            "  extra_warning_msg=_LOGISTIC_SOLVER_CONVERGENCE_MSG,\n",
            "/usr/local/lib/python3.7/dist-packages/sklearn/linear_model/_logistic.py:818: ConvergenceWarning: lbfgs failed to converge (status=1):\n",
            "STOP: TOTAL NO. of ITERATIONS REACHED LIMIT.\n",
            "\n",
            "Increase the number of iterations (max_iter) or scale the data as shown in:\n",
            "    https://scikit-learn.org/stable/modules/preprocessing.html\n",
            "Please also refer to the documentation for alternative solver options:\n",
            "    https://scikit-learn.org/stable/modules/linear_model.html#logistic-regression\n",
            "  extra_warning_msg=_LOGISTIC_SOLVER_CONVERGENCE_MSG,\n",
            "/usr/local/lib/python3.7/dist-packages/sklearn/linear_model/_logistic.py:818: ConvergenceWarning: lbfgs failed to converge (status=1):\n",
            "STOP: TOTAL NO. of ITERATIONS REACHED LIMIT.\n",
            "\n",
            "Increase the number of iterations (max_iter) or scale the data as shown in:\n",
            "    https://scikit-learn.org/stable/modules/preprocessing.html\n",
            "Please also refer to the documentation for alternative solver options:\n",
            "    https://scikit-learn.org/stable/modules/linear_model.html#logistic-regression\n",
            "  extra_warning_msg=_LOGISTIC_SOLVER_CONVERGENCE_MSG,\n",
            "/usr/local/lib/python3.7/dist-packages/sklearn/linear_model/_logistic.py:818: ConvergenceWarning: lbfgs failed to converge (status=1):\n",
            "STOP: TOTAL NO. of ITERATIONS REACHED LIMIT.\n",
            "\n",
            "Increase the number of iterations (max_iter) or scale the data as shown in:\n",
            "    https://scikit-learn.org/stable/modules/preprocessing.html\n",
            "Please also refer to the documentation for alternative solver options:\n",
            "    https://scikit-learn.org/stable/modules/linear_model.html#logistic-regression\n",
            "  extra_warning_msg=_LOGISTIC_SOLVER_CONVERGENCE_MSG,\n",
            "/usr/local/lib/python3.7/dist-packages/sklearn/linear_model/_logistic.py:818: ConvergenceWarning: lbfgs failed to converge (status=1):\n",
            "STOP: TOTAL NO. of ITERATIONS REACHED LIMIT.\n",
            "\n",
            "Increase the number of iterations (max_iter) or scale the data as shown in:\n",
            "    https://scikit-learn.org/stable/modules/preprocessing.html\n",
            "Please also refer to the documentation for alternative solver options:\n",
            "    https://scikit-learn.org/stable/modules/linear_model.html#logistic-regression\n",
            "  extra_warning_msg=_LOGISTIC_SOLVER_CONVERGENCE_MSG,\n",
            "/usr/local/lib/python3.7/dist-packages/sklearn/linear_model/_logistic.py:818: ConvergenceWarning: lbfgs failed to converge (status=1):\n",
            "STOP: TOTAL NO. of ITERATIONS REACHED LIMIT.\n",
            "\n",
            "Increase the number of iterations (max_iter) or scale the data as shown in:\n",
            "    https://scikit-learn.org/stable/modules/preprocessing.html\n",
            "Please also refer to the documentation for alternative solver options:\n",
            "    https://scikit-learn.org/stable/modules/linear_model.html#logistic-regression\n",
            "  extra_warning_msg=_LOGISTIC_SOLVER_CONVERGENCE_MSG,\n",
            "/usr/local/lib/python3.7/dist-packages/sklearn/linear_model/_logistic.py:818: ConvergenceWarning: lbfgs failed to converge (status=1):\n",
            "STOP: TOTAL NO. of ITERATIONS REACHED LIMIT.\n",
            "\n",
            "Increase the number of iterations (max_iter) or scale the data as shown in:\n",
            "    https://scikit-learn.org/stable/modules/preprocessing.html\n",
            "Please also refer to the documentation for alternative solver options:\n",
            "    https://scikit-learn.org/stable/modules/linear_model.html#logistic-regression\n",
            "  extra_warning_msg=_LOGISTIC_SOLVER_CONVERGENCE_MSG,\n",
            "/usr/local/lib/python3.7/dist-packages/sklearn/linear_model/_logistic.py:818: ConvergenceWarning: lbfgs failed to converge (status=1):\n",
            "STOP: TOTAL NO. of ITERATIONS REACHED LIMIT.\n",
            "\n",
            "Increase the number of iterations (max_iter) or scale the data as shown in:\n",
            "    https://scikit-learn.org/stable/modules/preprocessing.html\n",
            "Please also refer to the documentation for alternative solver options:\n",
            "    https://scikit-learn.org/stable/modules/linear_model.html#logistic-regression\n",
            "  extra_warning_msg=_LOGISTIC_SOLVER_CONVERGENCE_MSG,\n",
            "/usr/local/lib/python3.7/dist-packages/sklearn/linear_model/_logistic.py:818: ConvergenceWarning: lbfgs failed to converge (status=1):\n",
            "STOP: TOTAL NO. of ITERATIONS REACHED LIMIT.\n",
            "\n",
            "Increase the number of iterations (max_iter) or scale the data as shown in:\n",
            "    https://scikit-learn.org/stable/modules/preprocessing.html\n",
            "Please also refer to the documentation for alternative solver options:\n",
            "    https://scikit-learn.org/stable/modules/linear_model.html#logistic-regression\n",
            "  extra_warning_msg=_LOGISTIC_SOLVER_CONVERGENCE_MSG,\n",
            "/usr/local/lib/python3.7/dist-packages/sklearn/linear_model/_logistic.py:818: ConvergenceWarning: lbfgs failed to converge (status=1):\n",
            "STOP: TOTAL NO. of ITERATIONS REACHED LIMIT.\n",
            "\n",
            "Increase the number of iterations (max_iter) or scale the data as shown in:\n",
            "    https://scikit-learn.org/stable/modules/preprocessing.html\n",
            "Please also refer to the documentation for alternative solver options:\n",
            "    https://scikit-learn.org/stable/modules/linear_model.html#logistic-regression\n",
            "  extra_warning_msg=_LOGISTIC_SOLVER_CONVERGENCE_MSG,\n",
            "/usr/local/lib/python3.7/dist-packages/sklearn/linear_model/_logistic.py:818: ConvergenceWarning: lbfgs failed to converge (status=1):\n",
            "STOP: TOTAL NO. of ITERATIONS REACHED LIMIT.\n",
            "\n",
            "Increase the number of iterations (max_iter) or scale the data as shown in:\n",
            "    https://scikit-learn.org/stable/modules/preprocessing.html\n",
            "Please also refer to the documentation for alternative solver options:\n",
            "    https://scikit-learn.org/stable/modules/linear_model.html#logistic-regression\n",
            "  extra_warning_msg=_LOGISTIC_SOLVER_CONVERGENCE_MSG,\n",
            "/usr/local/lib/python3.7/dist-packages/sklearn/linear_model/_logistic.py:818: ConvergenceWarning: lbfgs failed to converge (status=1):\n",
            "STOP: TOTAL NO. of ITERATIONS REACHED LIMIT.\n",
            "\n",
            "Increase the number of iterations (max_iter) or scale the data as shown in:\n",
            "    https://scikit-learn.org/stable/modules/preprocessing.html\n",
            "Please also refer to the documentation for alternative solver options:\n",
            "    https://scikit-learn.org/stable/modules/linear_model.html#logistic-regression\n",
            "  extra_warning_msg=_LOGISTIC_SOLVER_CONVERGENCE_MSG,\n",
            "/usr/local/lib/python3.7/dist-packages/sklearn/linear_model/_logistic.py:818: ConvergenceWarning: lbfgs failed to converge (status=1):\n",
            "STOP: TOTAL NO. of ITERATIONS REACHED LIMIT.\n",
            "\n",
            "Increase the number of iterations (max_iter) or scale the data as shown in:\n",
            "    https://scikit-learn.org/stable/modules/preprocessing.html\n",
            "Please also refer to the documentation for alternative solver options:\n",
            "    https://scikit-learn.org/stable/modules/linear_model.html#logistic-regression\n",
            "  extra_warning_msg=_LOGISTIC_SOLVER_CONVERGENCE_MSG,\n",
            "/usr/local/lib/python3.7/dist-packages/sklearn/linear_model/_logistic.py:818: ConvergenceWarning: lbfgs failed to converge (status=1):\n",
            "STOP: TOTAL NO. of ITERATIONS REACHED LIMIT.\n",
            "\n",
            "Increase the number of iterations (max_iter) or scale the data as shown in:\n",
            "    https://scikit-learn.org/stable/modules/preprocessing.html\n",
            "Please also refer to the documentation for alternative solver options:\n",
            "    https://scikit-learn.org/stable/modules/linear_model.html#logistic-regression\n",
            "  extra_warning_msg=_LOGISTIC_SOLVER_CONVERGENCE_MSG,\n",
            "/usr/local/lib/python3.7/dist-packages/sklearn/linear_model/_logistic.py:818: ConvergenceWarning: lbfgs failed to converge (status=1):\n",
            "STOP: TOTAL NO. of ITERATIONS REACHED LIMIT.\n",
            "\n",
            "Increase the number of iterations (max_iter) or scale the data as shown in:\n",
            "    https://scikit-learn.org/stable/modules/preprocessing.html\n",
            "Please also refer to the documentation for alternative solver options:\n",
            "    https://scikit-learn.org/stable/modules/linear_model.html#logistic-regression\n",
            "  extra_warning_msg=_LOGISTIC_SOLVER_CONVERGENCE_MSG,\n",
            "/usr/local/lib/python3.7/dist-packages/sklearn/linear_model/_logistic.py:818: ConvergenceWarning: lbfgs failed to converge (status=1):\n",
            "STOP: TOTAL NO. of ITERATIONS REACHED LIMIT.\n",
            "\n",
            "Increase the number of iterations (max_iter) or scale the data as shown in:\n",
            "    https://scikit-learn.org/stable/modules/preprocessing.html\n",
            "Please also refer to the documentation for alternative solver options:\n",
            "    https://scikit-learn.org/stable/modules/linear_model.html#logistic-regression\n",
            "  extra_warning_msg=_LOGISTIC_SOLVER_CONVERGENCE_MSG,\n",
            "/usr/local/lib/python3.7/dist-packages/sklearn/linear_model/_logistic.py:818: ConvergenceWarning: lbfgs failed to converge (status=1):\n",
            "STOP: TOTAL NO. of ITERATIONS REACHED LIMIT.\n",
            "\n",
            "Increase the number of iterations (max_iter) or scale the data as shown in:\n",
            "    https://scikit-learn.org/stable/modules/preprocessing.html\n",
            "Please also refer to the documentation for alternative solver options:\n",
            "    https://scikit-learn.org/stable/modules/linear_model.html#logistic-regression\n",
            "  extra_warning_msg=_LOGISTIC_SOLVER_CONVERGENCE_MSG,\n",
            "/usr/local/lib/python3.7/dist-packages/sklearn/linear_model/_logistic.py:818: ConvergenceWarning: lbfgs failed to converge (status=1):\n",
            "STOP: TOTAL NO. of ITERATIONS REACHED LIMIT.\n",
            "\n",
            "Increase the number of iterations (max_iter) or scale the data as shown in:\n",
            "    https://scikit-learn.org/stable/modules/preprocessing.html\n",
            "Please also refer to the documentation for alternative solver options:\n",
            "    https://scikit-learn.org/stable/modules/linear_model.html#logistic-regression\n",
            "  extra_warning_msg=_LOGISTIC_SOLVER_CONVERGENCE_MSG,\n",
            "/usr/local/lib/python3.7/dist-packages/sklearn/linear_model/_logistic.py:818: ConvergenceWarning: lbfgs failed to converge (status=1):\n",
            "STOP: TOTAL NO. of ITERATIONS REACHED LIMIT.\n",
            "\n",
            "Increase the number of iterations (max_iter) or scale the data as shown in:\n",
            "    https://scikit-learn.org/stable/modules/preprocessing.html\n",
            "Please also refer to the documentation for alternative solver options:\n",
            "    https://scikit-learn.org/stable/modules/linear_model.html#logistic-regression\n",
            "  extra_warning_msg=_LOGISTIC_SOLVER_CONVERGENCE_MSG,\n",
            "/usr/local/lib/python3.7/dist-packages/sklearn/linear_model/_logistic.py:818: ConvergenceWarning: lbfgs failed to converge (status=1):\n",
            "STOP: TOTAL NO. of ITERATIONS REACHED LIMIT.\n",
            "\n",
            "Increase the number of iterations (max_iter) or scale the data as shown in:\n",
            "    https://scikit-learn.org/stable/modules/preprocessing.html\n",
            "Please also refer to the documentation for alternative solver options:\n",
            "    https://scikit-learn.org/stable/modules/linear_model.html#logistic-regression\n",
            "  extra_warning_msg=_LOGISTIC_SOLVER_CONVERGENCE_MSG,\n"
          ]
        },
        {
          "output_type": "stream",
          "name": "stdout",
          "text": [
            "[False  True  True False False  True False False False False False False\n",
            " False False False False  True  True  True  True False  True  True  True\n",
            " False False False False False False False False False False False False\n",
            " False False False False False False False False False False False False\n",
            " False False False False False False False False False False False False\n",
            " False False False False False False False False False False False False\n",
            " False False False False False False False False False False False False\n",
            " False False False False False False False]\n",
            "[11  1  1 12 44  1  5 16 45 18 17  4 28 14 34 61  1  1  1  1  7  1  1  1\n",
            " 10  6 49 20 78 13 15  3  2  9  8 30 31 25 26 27 35 29 39 71 72 55 77 57\n",
            " 53 32 42 54 40 33 47 41 63 46 79 51 64 52 60 70 68 65 76 80 73 21 82 81\n",
            " 36 69 23 24 67 22 59 66 43 62 38 75 58 37 74 48 50 56 19]\n"
          ]
        },
        {
          "output_type": "stream",
          "name": "stderr",
          "text": [
            "/usr/local/lib/python3.7/dist-packages/sklearn/linear_model/_logistic.py:818: ConvergenceWarning: lbfgs failed to converge (status=1):\n",
            "STOP: TOTAL NO. of ITERATIONS REACHED LIMIT.\n",
            "\n",
            "Increase the number of iterations (max_iter) or scale the data as shown in:\n",
            "    https://scikit-learn.org/stable/modules/preprocessing.html\n",
            "Please also refer to the documentation for alternative solver options:\n",
            "    https://scikit-learn.org/stable/modules/linear_model.html#logistic-regression\n",
            "  extra_warning_msg=_LOGISTIC_SOLVER_CONVERGENCE_MSG,\n"
          ]
        }
      ]
    },
    {
      "cell_type": "markdown",
      "source": [
        "Seguidamente se muestran las características seleccionadas con RFE para realizar el entrenamiento del modelo. "
      ],
      "metadata": {
        "id": "c3qhsfLXPadH"
      }
    },
    {
      "cell_type": "code",
      "source": [
        "selected_features_i = np.where(rfe.ranking_ == 1)[0]"
      ],
      "metadata": {
        "id": "DjVXQyiW3lsR"
      },
      "execution_count": null,
      "outputs": []
    },
    {
      "cell_type": "code",
      "source": [
        "data.columns[selected_features_i]"
      ],
      "metadata": {
        "colab": {
          "base_uri": "https://localhost:8080/"
        },
        "id": "OwMbJ8Xi3vC_",
        "outputId": "13cbc4dc-5a68-4fc8-8edd-91597d5c0705"
      },
      "execution_count": null,
      "outputs": [
        {
          "output_type": "execute_result",
          "data": {
            "text/plain": [
              "Index(['funded_amnt', 'funded_amnt_inv', 'installment', 'total_acc',\n",
              "       'out_prncp', 'out_prncp_inv', 'total_pymnt', 'total_rec_prncp',\n",
              "       'total_rec_int', 'total_rec_late_fee'],\n",
              "      dtype='object')"
            ]
          },
          "metadata": {},
          "execution_count": 51
        }
      ]
    },
    {
      "cell_type": "markdown",
      "source": [
        "Se modifican los conjuntos de datos de entrenamiento y de valdiación para que solo contengan las características seleccionadas."
      ],
      "metadata": {
        "id": "qY49a3VxPmok"
      }
    },
    {
      "cell_type": "code",
      "source": [
        "cols=X_trainLR.columns[selected_features_i]\n",
        "X_trainLR = X_trainLR[cols]\n",
        "X_testLR = X_testLR[cols]"
      ],
      "metadata": {
        "id": "aU2XTEeg32gF"
      },
      "execution_count": null,
      "outputs": []
    },
    {
      "cell_type": "markdown",
      "source": [
        "###Enrenamiento del modelo"
      ],
      "metadata": {
        "id": "UCwmvRFR282D"
      }
    },
    {
      "cell_type": "markdown",
      "source": [
        "Se entrena el modelo de regresión lineal."
      ],
      "metadata": {
        "id": "yXD0Sl7xOW-b"
      }
    },
    {
      "cell_type": "code",
      "source": [
        "logreg = LogisticRegression()\n",
        "logreg.fit(X_trainLR, y_trainLR)"
      ],
      "metadata": {
        "colab": {
          "base_uri": "https://localhost:8080/"
        },
        "id": "qY3HGRmf4Te7",
        "outputId": "6200ebd2-46b3-4f68-def0-ae4613c696ef"
      },
      "execution_count": null,
      "outputs": [
        {
          "output_type": "stream",
          "name": "stderr",
          "text": [
            "/usr/local/lib/python3.7/dist-packages/sklearn/linear_model/_logistic.py:818: ConvergenceWarning: lbfgs failed to converge (status=1):\n",
            "STOP: TOTAL NO. of ITERATIONS REACHED LIMIT.\n",
            "\n",
            "Increase the number of iterations (max_iter) or scale the data as shown in:\n",
            "    https://scikit-learn.org/stable/modules/preprocessing.html\n",
            "Please also refer to the documentation for alternative solver options:\n",
            "    https://scikit-learn.org/stable/modules/linear_model.html#logistic-regression\n",
            "  extra_warning_msg=_LOGISTIC_SOLVER_CONVERGENCE_MSG,\n"
          ]
        },
        {
          "output_type": "execute_result",
          "data": {
            "text/plain": [
              "LogisticRegression()"
            ]
          },
          "metadata": {},
          "execution_count": 53
        }
      ]
    },
    {
      "cell_type": "markdown",
      "source": [
        "Se realiza la predicción de la variable 'loan_status'."
      ],
      "metadata": {
        "id": "qosEXOw2NQ3o"
      }
    },
    {
      "cell_type": "code",
      "source": [
        "y_predLR = logreg.predict(X_testLR)"
      ],
      "metadata": {
        "id": "yJnSnqds4ceq"
      },
      "execution_count": null,
      "outputs": []
    },
    {
      "cell_type": "markdown",
      "source": [
        "###Evaluación del modelo"
      ],
      "metadata": {
        "id": "WoOXS7UW3EjO"
      }
    },
    {
      "cell_type": "markdown",
      "source": [
        "A continuación se presentan las métricas obtenidas con el modelo de regresión lineal.\n"
      ],
      "metadata": {
        "id": "BZJmylU7NtRj"
      }
    },
    {
      "cell_type": "code",
      "source": [
        "print('Accuracy of logistic regression classifier on test set: {:.2f}'.format(logreg.score(X_testLR, y_testLR)))"
      ],
      "metadata": {
        "colab": {
          "base_uri": "https://localhost:8080/"
        },
        "id": "x8Ftx2UA4lOq",
        "outputId": "9ccc2475-8c86-41ca-ab5f-f8e106c09c37"
      },
      "execution_count": null,
      "outputs": [
        {
          "output_type": "stream",
          "name": "stdout",
          "text": [
            "Accuracy of logistic regression classifier on test set: 0.98\n"
          ]
        }
      ]
    },
    {
      "cell_type": "code",
      "source": [
        "confusion_matrix = confusion_matrix(y_testLR, y_predLR)\n",
        "print(confusion_matrix)"
      ],
      "metadata": {
        "colab": {
          "base_uri": "https://localhost:8080/"
        },
        "id": "nBFlU4hM4rBo",
        "outputId": "22823b28-29b4-4f32-fed6-a4f33b9b1eb6"
      },
      "execution_count": null,
      "outputs": [
        {
          "output_type": "stream",
          "name": "stdout",
          "text": [
            "[[150841    243]\n",
            " [  2389    117]]\n"
          ]
        }
      ]
    },
    {
      "cell_type": "code",
      "source": [
        "print(classification_report(y_testLR, y_predLR))"
      ],
      "metadata": {
        "colab": {
          "base_uri": "https://localhost:8080/"
        },
        "id": "7rKZ4QCe4wCO",
        "outputId": "995a2b33-2f18-4719-8987-5447a887f988"
      },
      "execution_count": null,
      "outputs": [
        {
          "output_type": "stream",
          "name": "stdout",
          "text": [
            "              precision    recall  f1-score   support\n",
            "\n",
            "           0       0.98      1.00      0.99    151084\n",
            "           1       0.33      0.05      0.08      2506\n",
            "\n",
            "    accuracy                           0.98    153590\n",
            "   macro avg       0.65      0.52      0.54    153590\n",
            "weighted avg       0.97      0.98      0.98    153590\n",
            "\n"
          ]
        }
      ]
    },
    {
      "cell_type": "markdown",
      "source": [
        "##Conclusiones"
      ],
      "metadata": {
        "id": "6BTd6oKbQC-X"
      }
    },
    {
      "cell_type": "markdown",
      "source": [
        "* \n",
        "* \n",
        "*"
      ],
      "metadata": {
        "id": "smZuvWdiQFkV"
      }
    }
  ]
}